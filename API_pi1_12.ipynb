{
  "metadata": {
    "colab": {
      "provenance": []
    },
    "kernelspec": {
      "display_name": "Python 3",
      "name": "python3"
    },
    "language_info": {
      "name": "python"
    }
  },
  "nbformat_minor": 0,
  "nbformat": 4,
  "cells": [
    {
      "cell_type": "markdown",
      "source": [
        "\n",
        "\n",
        "#**Endpoints  De API**\n",
        "\n"
      ],
      "metadata": {
        "id": "ubL0ITPMHkTX"
      }
    },
    {
      "cell_type": "code",
      "source": [
        "!pip install fastapi"
      ],
      "metadata": {
        "colab": {
          "base_uri": "https://localhost:8080/"
        },
        "id": "2AGDdA_n-G3c",
        "outputId": "11a07f51-343c-4b9e-df93-de36b5ebff0f"
      },
      "execution_count": 1,
      "outputs": [
        {
          "output_type": "stream",
          "name": "stdout",
          "text": [
            "Collecting fastapi\n",
            "  Downloading fastapi-0.100.0-py3-none-any.whl (65 kB)\n",
            "\u001b[?25l     \u001b[90m━━━━━━━━━━━━━━━━━━━━━━━━━━━━━━━━━━━━━━━━\u001b[0m \u001b[32m0.0/65.7 kB\u001b[0m \u001b[31m?\u001b[0m eta \u001b[36m-:--:--\u001b[0m\r\u001b[2K     \u001b[90m━━━━━━━━━━━━━━━━━━━━━━━━━━━━━━━━━━━━━━━━\u001b[0m \u001b[32m65.7/65.7 kB\u001b[0m \u001b[31m2.6 MB/s\u001b[0m eta \u001b[36m0:00:00\u001b[0m\n",
            "\u001b[?25hRequirement already satisfied: pydantic!=1.8,!=1.8.1,!=2.0.0,!=2.0.1,<3.0.0,>=1.7.4 in /usr/local/lib/python3.10/dist-packages (from fastapi) (1.10.9)\n",
            "Collecting starlette<0.28.0,>=0.27.0 (from fastapi)\n",
            "  Downloading starlette-0.27.0-py3-none-any.whl (66 kB)\n",
            "\u001b[2K     \u001b[90m━━━━━━━━━━━━━━━━━━━━━━━━━━━━━━━━━━━━━━━━\u001b[0m \u001b[32m67.0/67.0 kB\u001b[0m \u001b[31m5.8 MB/s\u001b[0m eta \u001b[36m0:00:00\u001b[0m\n",
            "\u001b[?25hRequirement already satisfied: typing-extensions>=4.5.0 in /usr/local/lib/python3.10/dist-packages (from fastapi) (4.6.3)\n",
            "Requirement already satisfied: anyio<5,>=3.4.0 in /usr/local/lib/python3.10/dist-packages (from starlette<0.28.0,>=0.27.0->fastapi) (3.7.0)\n",
            "Requirement already satisfied: idna>=2.8 in /usr/local/lib/python3.10/dist-packages (from anyio<5,>=3.4.0->starlette<0.28.0,>=0.27.0->fastapi) (3.4)\n",
            "Requirement already satisfied: sniffio>=1.1 in /usr/local/lib/python3.10/dist-packages (from anyio<5,>=3.4.0->starlette<0.28.0,>=0.27.0->fastapi) (1.3.0)\n",
            "Requirement already satisfied: exceptiongroup in /usr/local/lib/python3.10/dist-packages (from anyio<5,>=3.4.0->starlette<0.28.0,>=0.27.0->fastapi) (1.1.1)\n",
            "Installing collected packages: starlette, fastapi\n",
            "Successfully installed fastapi-0.100.0 starlette-0.27.0\n"
          ]
        }
      ]
    },
    {
      "cell_type": "code",
      "source": [
        "!pip install uvicorn"
      ],
      "metadata": {
        "colab": {
          "base_uri": "https://localhost:8080/"
        },
        "id": "-rGB_NLy-WTr",
        "outputId": "868607ff-1659-44de-a233-15cb853f07ca"
      },
      "execution_count": 2,
      "outputs": [
        {
          "output_type": "stream",
          "name": "stdout",
          "text": [
            "Collecting uvicorn\n",
            "  Downloading uvicorn-0.22.0-py3-none-any.whl (58 kB)\n",
            "\u001b[?25l     \u001b[90m━━━━━━━━━━━━━━━━━━━━━━━━━━━━━━━━━━━━━━━━\u001b[0m \u001b[32m0.0/58.3 kB\u001b[0m \u001b[31m?\u001b[0m eta \u001b[36m-:--:--\u001b[0m\r\u001b[2K     \u001b[90m━━━━━━━━━━━━━━━━━━━━━━━━━━━━━━━━━━━━━━━━\u001b[0m \u001b[32m58.3/58.3 kB\u001b[0m \u001b[31m2.5 MB/s\u001b[0m eta \u001b[36m0:00:00\u001b[0m\n",
            "\u001b[?25hRequirement already satisfied: click>=7.0 in /usr/local/lib/python3.10/dist-packages (from uvicorn) (8.1.3)\n",
            "Collecting h11>=0.8 (from uvicorn)\n",
            "  Downloading h11-0.14.0-py3-none-any.whl (58 kB)\n",
            "\u001b[?25l     \u001b[90m━━━━━━━━━━━━━━━━━━━━━━━━━━━━━━━━━━━━━━━━\u001b[0m \u001b[32m0.0/58.3 kB\u001b[0m \u001b[31m?\u001b[0m eta \u001b[36m-:--:--\u001b[0m\r\u001b[2K     \u001b[90m━━━━━━━━━━━━━━━━━━━━━━━━━━━━━━━━━━━━━━━━\u001b[0m \u001b[32m58.3/58.3 kB\u001b[0m \u001b[31m6.1 MB/s\u001b[0m eta \u001b[36m0:00:00\u001b[0m\n",
            "\u001b[?25hInstalling collected packages: h11, uvicorn\n",
            "Successfully installed h11-0.14.0 uvicorn-0.22.0\n"
          ]
        }
      ]
    },
    {
      "cell_type": "code",
      "source": [
        "!pip install SQLAlchemy==1.4.17"
      ],
      "metadata": {
        "colab": {
          "base_uri": "https://localhost:8080/"
        },
        "id": "rWAkEX9S-aHH",
        "outputId": "9ac7b1bb-aae4-4169-e4fe-4c50d77dac08"
      },
      "execution_count": 3,
      "outputs": [
        {
          "output_type": "stream",
          "name": "stdout",
          "text": [
            "Collecting SQLAlchemy==1.4.17\n",
            "  Downloading SQLAlchemy-1.4.17.tar.gz (7.6 MB)\n",
            "\u001b[?25l     \u001b[90m━━━━━━━━━━━━━━━━━━━━━━━━━━━━━━━━━━━━━━━━\u001b[0m \u001b[32m0.0/7.6 MB\u001b[0m \u001b[31m?\u001b[0m eta \u001b[36m-:--:--\u001b[0m\r\u001b[2K     \u001b[91m━\u001b[0m\u001b[91m╸\u001b[0m\u001b[90m━━━━━━━━━━━━━━━━━━━━━━━━━━━━━━━━━━━━━━\u001b[0m \u001b[32m0.4/7.6 MB\u001b[0m \u001b[31m11.0 MB/s\u001b[0m eta \u001b[36m0:00:01\u001b[0m\r\u001b[2K     \u001b[91m━━━━━━━━━━━━━━━━━\u001b[0m\u001b[90m╺\u001b[0m\u001b[90m━━━━━━━━━━━━━━━━━━━━━━\u001b[0m \u001b[32m3.3/7.6 MB\u001b[0m \u001b[31m47.4 MB/s\u001b[0m eta \u001b[36m0:00:01\u001b[0m\r\u001b[2K     \u001b[91m━━━━━━━━━━━━━━━━━━━━━━━━━━━━━━━━━━━━━━━\u001b[0m\u001b[91m╸\u001b[0m \u001b[32m7.6/7.6 MB\u001b[0m \u001b[31m77.2 MB/s\u001b[0m eta \u001b[36m0:00:01\u001b[0m\r\u001b[2K     \u001b[90m━━━━━━━━━━━━━━━━━━━━━━━━━━━━━━━━━━━━━━━━\u001b[0m \u001b[32m7.6/7.6 MB\u001b[0m \u001b[31m53.1 MB/s\u001b[0m eta \u001b[36m0:00:00\u001b[0m\n",
            "\u001b[?25h  Preparing metadata (setup.py) ... \u001b[?25l\u001b[?25hdone\n",
            "Requirement already satisfied: greenlet!=0.4.17 in /usr/local/lib/python3.10/dist-packages (from SQLAlchemy==1.4.17) (2.0.2)\n",
            "Building wheels for collected packages: SQLAlchemy\n",
            "  Building wheel for SQLAlchemy (setup.py) ... \u001b[?25l\u001b[?25hdone\n",
            "  Created wheel for SQLAlchemy: filename=SQLAlchemy-1.4.17-cp310-cp310-linux_x86_64.whl size=1535530 sha256=61b24e25e3c83a1b1b0152069e4d30d3b78176f80306aa698ba5f0dd5dbbd4fd\n",
            "  Stored in directory: /root/.cache/pip/wheels/eb/d0/1e/ab0fcbac6f74a69b788a37fccd365fc67535b5ab79f97bd860\n",
            "Successfully built SQLAlchemy\n",
            "Installing collected packages: SQLAlchemy\n",
            "  Attempting uninstall: SQLAlchemy\n",
            "    Found existing installation: SQLAlchemy 2.0.16\n",
            "    Uninstalling SQLAlchemy-2.0.16:\n",
            "      Successfully uninstalled SQLAlchemy-2.0.16\n",
            "Successfully installed SQLAlchemy-1.4.17\n"
          ]
        }
      ]
    },
    {
      "cell_type": "markdown",
      "source": [
        "##EXTRACCION Y CARGA DE DATOS"
      ],
      "metadata": {
        "id": "ok0YC51w7-ui"
      }
    },
    {
      "cell_type": "code",
      "source": [
        "import pandas as pd\n",
        "import numpy as np\n",
        "\n",
        "import os\n",
        "\n",
        "from datetime import datetime\n",
        "from fastapi import FastAPI, HTTPException\n",
        "from datetime import datetime"
      ],
      "metadata": {
        "id": "ncYgs0r2-ekk"
      },
      "execution_count": 4,
      "outputs": []
    },
    {
      "cell_type": "code",
      "source": [
        "from google.colab import drive\n",
        "drive.mount('/content/drive')"
      ],
      "metadata": {
        "colab": {
          "base_uri": "https://localhost:8080/"
        },
        "id": "HhXoi3NPyBvw",
        "outputId": "8c50636e-128b-418d-c90f-ee1670916bd3"
      },
      "execution_count": 5,
      "outputs": [
        {
          "output_type": "stream",
          "name": "stdout",
          "text": [
            "Mounted at /content/drive\n"
          ]
        }
      ]
    },
    {
      "cell_type": "code",
      "source": [
        "df = pd.read_csv(\"/content/drive/MyDrive/Colab Notebooks/csv_12/ETL_pi_movies.csv\")\n",
        "\n",
        "df.head(3)"
      ],
      "metadata": {
        "colab": {
          "base_uri": "https://localhost:8080/",
          "height": 520
        },
        "id": "bHQ-SYFQ-h7F",
        "outputId": "c79f7bbc-e3ad-4f12-d013-864433906057"
      },
      "execution_count": 6,
      "outputs": [
        {
          "output_type": "stream",
          "name": "stderr",
          "text": [
            "<ipython-input-6-663aa58da5c8>:1: DtypeWarning: Columns (6) have mixed types. Specify dtype option on import or set low_memory=False.\n",
            "  df = pd.read_csv(\"/content/drive/MyDrive/Colab Notebooks/csv_12/ETL_pi_movies.csv\")\n"
          ]
        },
        {
          "output_type": "execute_result",
          "data": {
            "text/plain": [
              "                               belongs_to_collection      budget  \\\n",
              "0  {'id': 10194, 'name': 'Toy Story Collection', ...  30000000.0   \n",
              "1                                                NaN  65000000.0   \n",
              "2  {'id': 119050, 'name': 'Grumpy Old Men Collect...         0.0   \n",
              "\n",
              "                                              genres     id original_language  \\\n",
              "0  [{'id': 16, 'name': 'Animation'}, {'id': 35, '...    862                en   \n",
              "1  [{'id': 12, 'name': 'Adventure'}, {'id': 14, '...   8844                en   \n",
              "2  [{'id': 10749, 'name': 'Romance'}, {'id': 35, ...  15602                en   \n",
              "\n",
              "                                            overview popularity  \\\n",
              "0  Led by Woody, Andy's toys live happily in his ...  21.946943   \n",
              "1  When siblings Judy and Peter discover an encha...  17.015539   \n",
              "2  A family wedding reignites the ancient feud be...    11.7129   \n",
              "\n",
              "                                production_companies  \\\n",
              "0     [{'name': 'Pixar Animation Studios', 'id': 3}]   \n",
              "1  [{'name': 'TriStar Pictures', 'id': 559}, {'na...   \n",
              "2  [{'name': 'Warner Bros.', 'id': 6194}, {'name'...   \n",
              "\n",
              "                                production_countries release_date  \\\n",
              "0  [{'iso_3166_1': 'US', 'name': 'United States o...   1995-10-30   \n",
              "1  [{'iso_3166_1': 'US', 'name': 'United States o...   1995-12-15   \n",
              "2  [{'iso_3166_1': 'US', 'name': 'United States o...   1995-12-22   \n",
              "\n",
              "       revenue  runtime                                   spoken_languages  \\\n",
              "0  373554033.0     81.0           [{'iso_639_1': 'en', 'name': 'English'}]   \n",
              "1  262797249.0    104.0  [{'iso_639_1': 'en', 'name': 'English'}, {'iso...   \n",
              "2          0.0    101.0           [{'iso_639_1': 'en', 'name': 'English'}]   \n",
              "\n",
              "     status                                            tagline  \\\n",
              "0  Released                                                NaN   \n",
              "1  Released          Roll the dice and unleash the excitement!   \n",
              "2  Released  Still Yelling. Still Fighting. Still Ready for...   \n",
              "\n",
              "              title  vote_average  vote_count  release_year  return  \n",
              "0         Toy Story           7.7      5415.0          1995       0  \n",
              "1           Jumanji           6.9      2413.0          1995       0  \n",
              "2  Grumpier Old Men           6.5        92.0          1995       0  "
            ],
            "text/html": [
              "\n",
              "  <div id=\"df-0ffbdd7d-3a05-4e35-a388-2dcc84a8f49c\">\n",
              "    <div class=\"colab-df-container\">\n",
              "      <div>\n",
              "<style scoped>\n",
              "    .dataframe tbody tr th:only-of-type {\n",
              "        vertical-align: middle;\n",
              "    }\n",
              "\n",
              "    .dataframe tbody tr th {\n",
              "        vertical-align: top;\n",
              "    }\n",
              "\n",
              "    .dataframe thead th {\n",
              "        text-align: right;\n",
              "    }\n",
              "</style>\n",
              "<table border=\"1\" class=\"dataframe\">\n",
              "  <thead>\n",
              "    <tr style=\"text-align: right;\">\n",
              "      <th></th>\n",
              "      <th>belongs_to_collection</th>\n",
              "      <th>budget</th>\n",
              "      <th>genres</th>\n",
              "      <th>id</th>\n",
              "      <th>original_language</th>\n",
              "      <th>overview</th>\n",
              "      <th>popularity</th>\n",
              "      <th>production_companies</th>\n",
              "      <th>production_countries</th>\n",
              "      <th>release_date</th>\n",
              "      <th>revenue</th>\n",
              "      <th>runtime</th>\n",
              "      <th>spoken_languages</th>\n",
              "      <th>status</th>\n",
              "      <th>tagline</th>\n",
              "      <th>title</th>\n",
              "      <th>vote_average</th>\n",
              "      <th>vote_count</th>\n",
              "      <th>release_year</th>\n",
              "      <th>return</th>\n",
              "    </tr>\n",
              "  </thead>\n",
              "  <tbody>\n",
              "    <tr>\n",
              "      <th>0</th>\n",
              "      <td>{'id': 10194, 'name': 'Toy Story Collection', ...</td>\n",
              "      <td>30000000.0</td>\n",
              "      <td>[{'id': 16, 'name': 'Animation'}, {'id': 35, '...</td>\n",
              "      <td>862</td>\n",
              "      <td>en</td>\n",
              "      <td>Led by Woody, Andy's toys live happily in his ...</td>\n",
              "      <td>21.946943</td>\n",
              "      <td>[{'name': 'Pixar Animation Studios', 'id': 3}]</td>\n",
              "      <td>[{'iso_3166_1': 'US', 'name': 'United States o...</td>\n",
              "      <td>1995-10-30</td>\n",
              "      <td>373554033.0</td>\n",
              "      <td>81.0</td>\n",
              "      <td>[{'iso_639_1': 'en', 'name': 'English'}]</td>\n",
              "      <td>Released</td>\n",
              "      <td>NaN</td>\n",
              "      <td>Toy Story</td>\n",
              "      <td>7.7</td>\n",
              "      <td>5415.0</td>\n",
              "      <td>1995</td>\n",
              "      <td>0</td>\n",
              "    </tr>\n",
              "    <tr>\n",
              "      <th>1</th>\n",
              "      <td>NaN</td>\n",
              "      <td>65000000.0</td>\n",
              "      <td>[{'id': 12, 'name': 'Adventure'}, {'id': 14, '...</td>\n",
              "      <td>8844</td>\n",
              "      <td>en</td>\n",
              "      <td>When siblings Judy and Peter discover an encha...</td>\n",
              "      <td>17.015539</td>\n",
              "      <td>[{'name': 'TriStar Pictures', 'id': 559}, {'na...</td>\n",
              "      <td>[{'iso_3166_1': 'US', 'name': 'United States o...</td>\n",
              "      <td>1995-12-15</td>\n",
              "      <td>262797249.0</td>\n",
              "      <td>104.0</td>\n",
              "      <td>[{'iso_639_1': 'en', 'name': 'English'}, {'iso...</td>\n",
              "      <td>Released</td>\n",
              "      <td>Roll the dice and unleash the excitement!</td>\n",
              "      <td>Jumanji</td>\n",
              "      <td>6.9</td>\n",
              "      <td>2413.0</td>\n",
              "      <td>1995</td>\n",
              "      <td>0</td>\n",
              "    </tr>\n",
              "    <tr>\n",
              "      <th>2</th>\n",
              "      <td>{'id': 119050, 'name': 'Grumpy Old Men Collect...</td>\n",
              "      <td>0.0</td>\n",
              "      <td>[{'id': 10749, 'name': 'Romance'}, {'id': 35, ...</td>\n",
              "      <td>15602</td>\n",
              "      <td>en</td>\n",
              "      <td>A family wedding reignites the ancient feud be...</td>\n",
              "      <td>11.7129</td>\n",
              "      <td>[{'name': 'Warner Bros.', 'id': 6194}, {'name'...</td>\n",
              "      <td>[{'iso_3166_1': 'US', 'name': 'United States o...</td>\n",
              "      <td>1995-12-22</td>\n",
              "      <td>0.0</td>\n",
              "      <td>101.0</td>\n",
              "      <td>[{'iso_639_1': 'en', 'name': 'English'}]</td>\n",
              "      <td>Released</td>\n",
              "      <td>Still Yelling. Still Fighting. Still Ready for...</td>\n",
              "      <td>Grumpier Old Men</td>\n",
              "      <td>6.5</td>\n",
              "      <td>92.0</td>\n",
              "      <td>1995</td>\n",
              "      <td>0</td>\n",
              "    </tr>\n",
              "  </tbody>\n",
              "</table>\n",
              "</div>\n",
              "      <button class=\"colab-df-convert\" onclick=\"convertToInteractive('df-0ffbdd7d-3a05-4e35-a388-2dcc84a8f49c')\"\n",
              "              title=\"Convert this dataframe to an interactive table.\"\n",
              "              style=\"display:none;\">\n",
              "        \n",
              "  <svg xmlns=\"http://www.w3.org/2000/svg\" height=\"24px\"viewBox=\"0 0 24 24\"\n",
              "       width=\"24px\">\n",
              "    <path d=\"M0 0h24v24H0V0z\" fill=\"none\"/>\n",
              "    <path d=\"M18.56 5.44l.94 2.06.94-2.06 2.06-.94-2.06-.94-.94-2.06-.94 2.06-2.06.94zm-11 1L8.5 8.5l.94-2.06 2.06-.94-2.06-.94L8.5 2.5l-.94 2.06-2.06.94zm10 10l.94 2.06.94-2.06 2.06-.94-2.06-.94-.94-2.06-.94 2.06-2.06.94z\"/><path d=\"M17.41 7.96l-1.37-1.37c-.4-.4-.92-.59-1.43-.59-.52 0-1.04.2-1.43.59L10.3 9.45l-7.72 7.72c-.78.78-.78 2.05 0 2.83L4 21.41c.39.39.9.59 1.41.59.51 0 1.02-.2 1.41-.59l7.78-7.78 2.81-2.81c.8-.78.8-2.07 0-2.86zM5.41 20L4 18.59l7.72-7.72 1.47 1.35L5.41 20z\"/>\n",
              "  </svg>\n",
              "      </button>\n",
              "      \n",
              "  <style>\n",
              "    .colab-df-container {\n",
              "      display:flex;\n",
              "      flex-wrap:wrap;\n",
              "      gap: 12px;\n",
              "    }\n",
              "\n",
              "    .colab-df-convert {\n",
              "      background-color: #E8F0FE;\n",
              "      border: none;\n",
              "      border-radius: 50%;\n",
              "      cursor: pointer;\n",
              "      display: none;\n",
              "      fill: #1967D2;\n",
              "      height: 32px;\n",
              "      padding: 0 0 0 0;\n",
              "      width: 32px;\n",
              "    }\n",
              "\n",
              "    .colab-df-convert:hover {\n",
              "      background-color: #E2EBFA;\n",
              "      box-shadow: 0px 1px 2px rgba(60, 64, 67, 0.3), 0px 1px 3px 1px rgba(60, 64, 67, 0.15);\n",
              "      fill: #174EA6;\n",
              "    }\n",
              "\n",
              "    [theme=dark] .colab-df-convert {\n",
              "      background-color: #3B4455;\n",
              "      fill: #D2E3FC;\n",
              "    }\n",
              "\n",
              "    [theme=dark] .colab-df-convert:hover {\n",
              "      background-color: #434B5C;\n",
              "      box-shadow: 0px 1px 3px 1px rgba(0, 0, 0, 0.15);\n",
              "      filter: drop-shadow(0px 1px 2px rgba(0, 0, 0, 0.3));\n",
              "      fill: #FFFFFF;\n",
              "    }\n",
              "  </style>\n",
              "\n",
              "      <script>\n",
              "        const buttonEl =\n",
              "          document.querySelector('#df-0ffbdd7d-3a05-4e35-a388-2dcc84a8f49c button.colab-df-convert');\n",
              "        buttonEl.style.display =\n",
              "          google.colab.kernel.accessAllowed ? 'block' : 'none';\n",
              "\n",
              "        async function convertToInteractive(key) {\n",
              "          const element = document.querySelector('#df-0ffbdd7d-3a05-4e35-a388-2dcc84a8f49c');\n",
              "          const dataTable =\n",
              "            await google.colab.kernel.invokeFunction('convertToInteractive',\n",
              "                                                     [key], {});\n",
              "          if (!dataTable) return;\n",
              "\n",
              "          const docLinkHtml = 'Like what you see? Visit the ' +\n",
              "            '<a target=\"_blank\" href=https://colab.research.google.com/notebooks/data_table.ipynb>data table notebook</a>'\n",
              "            + ' to learn more about interactive tables.';\n",
              "          element.innerHTML = '';\n",
              "          dataTable['output_type'] = 'display_data';\n",
              "          await google.colab.output.renderOutput(dataTable, element);\n",
              "          const docLink = document.createElement('div');\n",
              "          docLink.innerHTML = docLinkHtml;\n",
              "          element.appendChild(docLink);\n",
              "        }\n",
              "      </script>\n",
              "    </div>\n",
              "  </div>\n",
              "  "
            ]
          },
          "metadata": {},
          "execution_count": 6
        }
      ]
    },
    {
      "cell_type": "code",
      "source": [
        "df.info()"
      ],
      "metadata": {
        "colab": {
          "base_uri": "https://localhost:8080/"
        },
        "id": "oCFit0FNf_VE",
        "outputId": "217ef4ea-df51-4232-c65f-8a382c7b85d5"
      },
      "execution_count": 7,
      "outputs": [
        {
          "output_type": "stream",
          "name": "stdout",
          "text": [
            "<class 'pandas.core.frame.DataFrame'>\n",
            "RangeIndex: 45379 entries, 0 to 45378\n",
            "Data columns (total 20 columns):\n",
            " #   Column                 Non-Null Count  Dtype  \n",
            "---  ------                 --------------  -----  \n",
            " 0   belongs_to_collection  4491 non-null   object \n",
            " 1   budget                 45379 non-null  float64\n",
            " 2   genres                 45379 non-null  object \n",
            " 3   id                     45379 non-null  object \n",
            " 4   original_language      45368 non-null  object \n",
            " 5   overview               44438 non-null  object \n",
            " 6   popularity             45377 non-null  object \n",
            " 7   production_companies   45379 non-null  object \n",
            " 8   production_countries   45379 non-null  object \n",
            " 9   release_date           45379 non-null  object \n",
            " 10  revenue                45379 non-null  float64\n",
            " 11  runtime                45130 non-null  float64\n",
            " 12  spoken_languages       45376 non-null  object \n",
            " 13  status                 45296 non-null  object \n",
            " 14  tagline                20398 non-null  object \n",
            " 15  title                  45376 non-null  object \n",
            " 16  vote_average           45376 non-null  float64\n",
            " 17  vote_count             45376 non-null  float64\n",
            " 18  release_year           45379 non-null  int64  \n",
            " 19  return                 45379 non-null  int64  \n",
            "dtypes: float64(5), int64(2), object(13)\n",
            "memory usage: 6.9+ MB\n"
          ]
        }
      ]
    },
    {
      "cell_type": "code",
      "source": [
        "df[\"release_date\"] =  pd.to_datetime(df[\"release_date\"], format=\"%Y-%m-%d\")"
      ],
      "metadata": {
        "id": "_s6hrB5SgWDF"
      },
      "execution_count": 8,
      "outputs": []
    },
    {
      "cell_type": "code",
      "source": [
        "df2=df.copy()\n"
      ],
      "metadata": {
        "id": "Z1SKOFeNtleT"
      },
      "execution_count": 9,
      "outputs": []
    },
    {
      "cell_type": "code",
      "source": [
        "#a eliminar\n",
        "df2.drop(['genres','overview','popularity','spoken_languages','status','tagline','return'], axis = 'columns', inplace=True)"
      ],
      "metadata": {
        "id": "al_H_fcwvJcb"
      },
      "execution_count": 10,
      "outputs": []
    },
    {
      "cell_type": "code",
      "source": [
        "df2.head(4)"
      ],
      "metadata": {
        "colab": {
          "base_uri": "https://localhost:8080/",
          "height": 378
        },
        "id": "1Psvkj71v6NV",
        "outputId": "9ecd02ee-f458-4f3e-82dc-1361afccce5d"
      },
      "execution_count": 11,
      "outputs": [
        {
          "output_type": "execute_result",
          "data": {
            "text/plain": [
              "                               belongs_to_collection      budget     id  \\\n",
              "0  {'id': 10194, 'name': 'Toy Story Collection', ...  30000000.0    862   \n",
              "1                                                NaN  65000000.0   8844   \n",
              "2  {'id': 119050, 'name': 'Grumpy Old Men Collect...         0.0  15602   \n",
              "3                                                NaN  16000000.0  31357   \n",
              "\n",
              "  original_language                               production_companies  \\\n",
              "0                en     [{'name': 'Pixar Animation Studios', 'id': 3}]   \n",
              "1                en  [{'name': 'TriStar Pictures', 'id': 559}, {'na...   \n",
              "2                en  [{'name': 'Warner Bros.', 'id': 6194}, {'name'...   \n",
              "3                en  [{'name': 'Twentieth Century Fox Film Corporat...   \n",
              "\n",
              "                                production_countries release_date  \\\n",
              "0  [{'iso_3166_1': 'US', 'name': 'United States o...   1995-10-30   \n",
              "1  [{'iso_3166_1': 'US', 'name': 'United States o...   1995-12-15   \n",
              "2  [{'iso_3166_1': 'US', 'name': 'United States o...   1995-12-22   \n",
              "3  [{'iso_3166_1': 'US', 'name': 'United States o...   1995-12-22   \n",
              "\n",
              "       revenue  runtime              title  vote_average  vote_count  \\\n",
              "0  373554033.0     81.0          Toy Story           7.7      5415.0   \n",
              "1  262797249.0    104.0            Jumanji           6.9      2413.0   \n",
              "2          0.0    101.0   Grumpier Old Men           6.5        92.0   \n",
              "3   81452156.0    127.0  Waiting to Exhale           6.1        34.0   \n",
              "\n",
              "   release_year  \n",
              "0          1995  \n",
              "1          1995  \n",
              "2          1995  \n",
              "3          1995  "
            ],
            "text/html": [
              "\n",
              "  <div id=\"df-8ca15418-3167-49ba-8faf-2fea142b1390\">\n",
              "    <div class=\"colab-df-container\">\n",
              "      <div>\n",
              "<style scoped>\n",
              "    .dataframe tbody tr th:only-of-type {\n",
              "        vertical-align: middle;\n",
              "    }\n",
              "\n",
              "    .dataframe tbody tr th {\n",
              "        vertical-align: top;\n",
              "    }\n",
              "\n",
              "    .dataframe thead th {\n",
              "        text-align: right;\n",
              "    }\n",
              "</style>\n",
              "<table border=\"1\" class=\"dataframe\">\n",
              "  <thead>\n",
              "    <tr style=\"text-align: right;\">\n",
              "      <th></th>\n",
              "      <th>belongs_to_collection</th>\n",
              "      <th>budget</th>\n",
              "      <th>id</th>\n",
              "      <th>original_language</th>\n",
              "      <th>production_companies</th>\n",
              "      <th>production_countries</th>\n",
              "      <th>release_date</th>\n",
              "      <th>revenue</th>\n",
              "      <th>runtime</th>\n",
              "      <th>title</th>\n",
              "      <th>vote_average</th>\n",
              "      <th>vote_count</th>\n",
              "      <th>release_year</th>\n",
              "    </tr>\n",
              "  </thead>\n",
              "  <tbody>\n",
              "    <tr>\n",
              "      <th>0</th>\n",
              "      <td>{'id': 10194, 'name': 'Toy Story Collection', ...</td>\n",
              "      <td>30000000.0</td>\n",
              "      <td>862</td>\n",
              "      <td>en</td>\n",
              "      <td>[{'name': 'Pixar Animation Studios', 'id': 3}]</td>\n",
              "      <td>[{'iso_3166_1': 'US', 'name': 'United States o...</td>\n",
              "      <td>1995-10-30</td>\n",
              "      <td>373554033.0</td>\n",
              "      <td>81.0</td>\n",
              "      <td>Toy Story</td>\n",
              "      <td>7.7</td>\n",
              "      <td>5415.0</td>\n",
              "      <td>1995</td>\n",
              "    </tr>\n",
              "    <tr>\n",
              "      <th>1</th>\n",
              "      <td>NaN</td>\n",
              "      <td>65000000.0</td>\n",
              "      <td>8844</td>\n",
              "      <td>en</td>\n",
              "      <td>[{'name': 'TriStar Pictures', 'id': 559}, {'na...</td>\n",
              "      <td>[{'iso_3166_1': 'US', 'name': 'United States o...</td>\n",
              "      <td>1995-12-15</td>\n",
              "      <td>262797249.0</td>\n",
              "      <td>104.0</td>\n",
              "      <td>Jumanji</td>\n",
              "      <td>6.9</td>\n",
              "      <td>2413.0</td>\n",
              "      <td>1995</td>\n",
              "    </tr>\n",
              "    <tr>\n",
              "      <th>2</th>\n",
              "      <td>{'id': 119050, 'name': 'Grumpy Old Men Collect...</td>\n",
              "      <td>0.0</td>\n",
              "      <td>15602</td>\n",
              "      <td>en</td>\n",
              "      <td>[{'name': 'Warner Bros.', 'id': 6194}, {'name'...</td>\n",
              "      <td>[{'iso_3166_1': 'US', 'name': 'United States o...</td>\n",
              "      <td>1995-12-22</td>\n",
              "      <td>0.0</td>\n",
              "      <td>101.0</td>\n",
              "      <td>Grumpier Old Men</td>\n",
              "      <td>6.5</td>\n",
              "      <td>92.0</td>\n",
              "      <td>1995</td>\n",
              "    </tr>\n",
              "    <tr>\n",
              "      <th>3</th>\n",
              "      <td>NaN</td>\n",
              "      <td>16000000.0</td>\n",
              "      <td>31357</td>\n",
              "      <td>en</td>\n",
              "      <td>[{'name': 'Twentieth Century Fox Film Corporat...</td>\n",
              "      <td>[{'iso_3166_1': 'US', 'name': 'United States o...</td>\n",
              "      <td>1995-12-22</td>\n",
              "      <td>81452156.0</td>\n",
              "      <td>127.0</td>\n",
              "      <td>Waiting to Exhale</td>\n",
              "      <td>6.1</td>\n",
              "      <td>34.0</td>\n",
              "      <td>1995</td>\n",
              "    </tr>\n",
              "  </tbody>\n",
              "</table>\n",
              "</div>\n",
              "      <button class=\"colab-df-convert\" onclick=\"convertToInteractive('df-8ca15418-3167-49ba-8faf-2fea142b1390')\"\n",
              "              title=\"Convert this dataframe to an interactive table.\"\n",
              "              style=\"display:none;\">\n",
              "        \n",
              "  <svg xmlns=\"http://www.w3.org/2000/svg\" height=\"24px\"viewBox=\"0 0 24 24\"\n",
              "       width=\"24px\">\n",
              "    <path d=\"M0 0h24v24H0V0z\" fill=\"none\"/>\n",
              "    <path d=\"M18.56 5.44l.94 2.06.94-2.06 2.06-.94-2.06-.94-.94-2.06-.94 2.06-2.06.94zm-11 1L8.5 8.5l.94-2.06 2.06-.94-2.06-.94L8.5 2.5l-.94 2.06-2.06.94zm10 10l.94 2.06.94-2.06 2.06-.94-2.06-.94-.94-2.06-.94 2.06-2.06.94z\"/><path d=\"M17.41 7.96l-1.37-1.37c-.4-.4-.92-.59-1.43-.59-.52 0-1.04.2-1.43.59L10.3 9.45l-7.72 7.72c-.78.78-.78 2.05 0 2.83L4 21.41c.39.39.9.59 1.41.59.51 0 1.02-.2 1.41-.59l7.78-7.78 2.81-2.81c.8-.78.8-2.07 0-2.86zM5.41 20L4 18.59l7.72-7.72 1.47 1.35L5.41 20z\"/>\n",
              "  </svg>\n",
              "      </button>\n",
              "      \n",
              "  <style>\n",
              "    .colab-df-container {\n",
              "      display:flex;\n",
              "      flex-wrap:wrap;\n",
              "      gap: 12px;\n",
              "    }\n",
              "\n",
              "    .colab-df-convert {\n",
              "      background-color: #E8F0FE;\n",
              "      border: none;\n",
              "      border-radius: 50%;\n",
              "      cursor: pointer;\n",
              "      display: none;\n",
              "      fill: #1967D2;\n",
              "      height: 32px;\n",
              "      padding: 0 0 0 0;\n",
              "      width: 32px;\n",
              "    }\n",
              "\n",
              "    .colab-df-convert:hover {\n",
              "      background-color: #E2EBFA;\n",
              "      box-shadow: 0px 1px 2px rgba(60, 64, 67, 0.3), 0px 1px 3px 1px rgba(60, 64, 67, 0.15);\n",
              "      fill: #174EA6;\n",
              "    }\n",
              "\n",
              "    [theme=dark] .colab-df-convert {\n",
              "      background-color: #3B4455;\n",
              "      fill: #D2E3FC;\n",
              "    }\n",
              "\n",
              "    [theme=dark] .colab-df-convert:hover {\n",
              "      background-color: #434B5C;\n",
              "      box-shadow: 0px 1px 3px 1px rgba(0, 0, 0, 0.15);\n",
              "      filter: drop-shadow(0px 1px 2px rgba(0, 0, 0, 0.3));\n",
              "      fill: #FFFFFF;\n",
              "    }\n",
              "  </style>\n",
              "\n",
              "      <script>\n",
              "        const buttonEl =\n",
              "          document.querySelector('#df-8ca15418-3167-49ba-8faf-2fea142b1390 button.colab-df-convert');\n",
              "        buttonEl.style.display =\n",
              "          google.colab.kernel.accessAllowed ? 'block' : 'none';\n",
              "\n",
              "        async function convertToInteractive(key) {\n",
              "          const element = document.querySelector('#df-8ca15418-3167-49ba-8faf-2fea142b1390');\n",
              "          const dataTable =\n",
              "            await google.colab.kernel.invokeFunction('convertToInteractive',\n",
              "                                                     [key], {});\n",
              "          if (!dataTable) return;\n",
              "\n",
              "          const docLinkHtml = 'Like what you see? Visit the ' +\n",
              "            '<a target=\"_blank\" href=https://colab.research.google.com/notebooks/data_table.ipynb>data table notebook</a>'\n",
              "            + ' to learn more about interactive tables.';\n",
              "          element.innerHTML = '';\n",
              "          dataTable['output_type'] = 'display_data';\n",
              "          await google.colab.output.renderOutput(dataTable, element);\n",
              "          const docLink = document.createElement('div');\n",
              "          docLink.innerHTML = docLinkHtml;\n",
              "          element.appendChild(docLink);\n",
              "        }\n",
              "      </script>\n",
              "    </div>\n",
              "  </div>\n",
              "  "
            ]
          },
          "metadata": {},
          "execution_count": 11
        }
      ]
    },
    {
      "cell_type": "code",
      "source": [
        "df2.info()"
      ],
      "metadata": {
        "colab": {
          "base_uri": "https://localhost:8080/"
        },
        "id": "p7QMTXIdv_W4",
        "outputId": "8d5d0541-f262-4fcb-e905-964f25b6d87f"
      },
      "execution_count": 12,
      "outputs": [
        {
          "output_type": "stream",
          "name": "stdout",
          "text": [
            "<class 'pandas.core.frame.DataFrame'>\n",
            "RangeIndex: 45379 entries, 0 to 45378\n",
            "Data columns (total 13 columns):\n",
            " #   Column                 Non-Null Count  Dtype         \n",
            "---  ------                 --------------  -----         \n",
            " 0   belongs_to_collection  4491 non-null   object        \n",
            " 1   budget                 45379 non-null  float64       \n",
            " 2   id                     45379 non-null  object        \n",
            " 3   original_language      45368 non-null  object        \n",
            " 4   production_companies   45379 non-null  object        \n",
            " 5   production_countries   45379 non-null  object        \n",
            " 6   release_date           45379 non-null  datetime64[ns]\n",
            " 7   revenue                45379 non-null  float64       \n",
            " 8   runtime                45130 non-null  float64       \n",
            " 9   title                  45376 non-null  object        \n",
            " 10  vote_average           45376 non-null  float64       \n",
            " 11  vote_count             45376 non-null  float64       \n",
            " 12  release_year           45379 non-null  int64         \n",
            "dtypes: datetime64[ns](1), float64(5), int64(1), object(6)\n",
            "memory usage: 4.5+ MB\n"
          ]
        }
      ]
    },
    {
      "cell_type": "code",
      "source": [
        "df2[\"release_year\"]=df2[\"release_year\"].astype('string')"
      ],
      "metadata": {
        "id": "FmvmT5Rp6fM9"
      },
      "execution_count": 13,
      "outputs": []
    },
    {
      "cell_type": "code",
      "source": [
        "df2.info()"
      ],
      "metadata": {
        "colab": {
          "base_uri": "https://localhost:8080/"
        },
        "id": "-ITFhn_Q6pvM",
        "outputId": "14f9a752-263c-4906-d6b1-115ce4486659"
      },
      "execution_count": 14,
      "outputs": [
        {
          "output_type": "stream",
          "name": "stdout",
          "text": [
            "<class 'pandas.core.frame.DataFrame'>\n",
            "RangeIndex: 45379 entries, 0 to 45378\n",
            "Data columns (total 13 columns):\n",
            " #   Column                 Non-Null Count  Dtype         \n",
            "---  ------                 --------------  -----         \n",
            " 0   belongs_to_collection  4491 non-null   object        \n",
            " 1   budget                 45379 non-null  float64       \n",
            " 2   id                     45379 non-null  object        \n",
            " 3   original_language      45368 non-null  object        \n",
            " 4   production_companies   45379 non-null  object        \n",
            " 5   production_countries   45379 non-null  object        \n",
            " 6   release_date           45379 non-null  datetime64[ns]\n",
            " 7   revenue                45379 non-null  float64       \n",
            " 8   runtime                45130 non-null  float64       \n",
            " 9   title                  45376 non-null  object        \n",
            " 10  vote_average           45376 non-null  float64       \n",
            " 11  vote_count             45376 non-null  float64       \n",
            " 12  release_year           45379 non-null  string        \n",
            "dtypes: datetime64[ns](1), float64(5), object(6), string(1)\n",
            "memory usage: 4.5+ MB\n"
          ]
        }
      ]
    },
    {
      "cell_type": "code",
      "source": [
        "#Posible elemento a borrar\n",
        "#dffr.drop([19714], axis=0, inplace=True)\n",
        "#dffr.iloc[19714]"
      ],
      "metadata": {
        "id": "jqfgV1-5LcpY"
      },
      "execution_count": 15,
      "outputs": []
    },
    {
      "cell_type": "code",
      "source": [
        "#Error en datos no corresponde  una pelicula titulada o franquisia\n",
        "#dffr.iloc[45378]#  sera igual al dataframe inicial   df.iloc[19714]\n",
        "#por lo cual se reemplazo con el nombre sub franquicia se encontro el\n",
        "# valor NaN en los tre ultimas filas por ello requirio reemplazar 3*"
      ],
      "metadata": {
        "id": "KyLGOYocL_Ep"
      },
      "execution_count": 16,
      "outputs": []
    },
    {
      "cell_type": "code",
      "source": [
        "df2.to_csv('movies_api_12.csv', index=False)"
      ],
      "metadata": {
        "id": "pyGiOdlcwRvc"
      },
      "execution_count": null,
      "outputs": []
    },
    {
      "cell_type": "markdown",
      "source": [
        "## **Endpoint :  peliculas_idioma(Idioma)**"
      ],
      "metadata": {
        "id": "Z00i_Qr4-KmC"
      }
    },
    {
      "cell_type": "code",
      "source": [
        "df2[\"original_language\"].head(-10)"
      ],
      "metadata": {
        "colab": {
          "base_uri": "https://localhost:8080/"
        },
        "id": "8uvYcCX0Ah8x",
        "outputId": "d3d56b70-974d-4fce-f2ca-66a8fbe6b346"
      },
      "execution_count": 17,
      "outputs": [
        {
          "output_type": "execute_result",
          "data": {
            "text/plain": [
              "0        en\n",
              "1        en\n",
              "2        en\n",
              "3        en\n",
              "4        en\n",
              "         ..\n",
              "45364    fr\n",
              "45365    fr\n",
              "45366    en\n",
              "45367    hi\n",
              "45368    en\n",
              "Name: original_language, Length: 45369, dtype: object"
            ]
          },
          "metadata": {},
          "execution_count": 17
        }
      ]
    },
    {
      "cell_type": "code",
      "source": [
        "ds_i=df2[\"original_language\"].value_counts()\n",
        "ds_i"
      ],
      "metadata": {
        "colab": {
          "base_uri": "https://localhost:8080/"
        },
        "id": "86KQGCNeAsFr",
        "outputId": "0b394712-9ea1-4c95-88ac-b6875134911d"
      },
      "execution_count": 18,
      "outputs": [
        {
          "output_type": "execute_result",
          "data": {
            "text/plain": [
              "en       32202\n",
              "fr        2437\n",
              "it        1528\n",
              "ja        1349\n",
              "de        1078\n",
              "         ...  \n",
              "zu           1\n",
              "qu           1\n",
              "104.0        1\n",
              "la           1\n",
              "si           1\n",
              "Name: original_language, Length: 92, dtype: int64"
            ]
          },
          "metadata": {},
          "execution_count": 18
        }
      ]
    },
    {
      "cell_type": "code",
      "source": [
        "#ds_i=df.original_language.value_counts()\n",
        "ds_i[ds_i.index==\"en\"]"
      ],
      "metadata": {
        "colab": {
          "base_uri": "https://localhost:8080/"
        },
        "id": "_uL9tdeoA19a",
        "outputId": "ceb7d588-72f1-4149-f087-fb913f94450a"
      },
      "execution_count": 19,
      "outputs": [
        {
          "output_type": "execute_result",
          "data": {
            "text/plain": [
              "en    32202\n",
              "Name: original_language, dtype: int64"
            ]
          },
          "metadata": {},
          "execution_count": 19
        }
      ]
    },
    {
      "cell_type": "code",
      "source": [
        "df2.original_language.unique()"
      ],
      "metadata": {
        "colab": {
          "base_uri": "https://localhost:8080/"
        },
        "id": "nZ5KzbylCcdb",
        "outputId": "8128a8f7-2b6b-4af8-bb44-2c472c4a5b07"
      },
      "execution_count": 20,
      "outputs": [
        {
          "output_type": "execute_result",
          "data": {
            "text/plain": [
              "array(['en', 'fr', 'zh', 'it', 'fa', 'nl', 'de', 'cn', 'ar', 'es', 'ru',\n",
              "       'sv', 'ja', 'ko', 'sr', 'bn', 'he', 'pt', 'wo', 'ro', 'hu', 'cy',\n",
              "       'vi', 'cs', 'da', 'no', 'nb', 'pl', 'el', 'sh', 'xx', 'mk', 'bo',\n",
              "       'ca', 'fi', 'th', 'sk', 'bs', 'hi', 'tr', 'is', 'ps', 'ab', 'eo',\n",
              "       'ka', 'mn', 'bm', 'zu', 'uk', 'af', 'la', 'et', 'ku', 'fy', 'lv',\n",
              "       'ta', 'sl', 'tl', 'ur', 'rw', 'id', 'bg', 'mr', 'lt', 'kk', 'ms',\n",
              "       'sq', nan, '104.0', 'qu', 'te', 'am', 'jv', 'tg', 'ml', 'hr', 'lo',\n",
              "       'ay', 'kn', 'eu', 'ne', 'pa', 'ky', 'gl', '68.0', 'uz', 'sm', 'mt',\n",
              "       '82.0', 'hy', 'iu', 'lb', 'si'], dtype=object)"
            ]
          },
          "metadata": {},
          "execution_count": 20
        }
      ]
    },
    {
      "cell_type": "code",
      "source": [
        "def peliculas_idioma( Idioma: str ):\n",
        " # ds_i=df2.original_language.value_counts()\n",
        " # print(\"lenguajes disponibles\",df2.original_language.unique())\n",
        "  ds_i=df2[\"original_language\"].value_counts()\n",
        "  cant=0\n",
        "  if Idioma in ds_i.index:\n",
        "      cant=ds_i[ds_i.index==Idioma]\n",
        "      return {'Cantidad de pelicula que fueron estrenadas':cant[0],' en el Idioma':Idioma}\n",
        "  else:\n",
        "      return (\"Ingreso incorrecto, recuerde escribir todo en minúsculas.\")"
      ],
      "metadata": {
        "id": "TqLpVebaE5cW"
      },
      "execution_count": 21,
      "outputs": []
    },
    {
      "cell_type": "code",
      "source": [
        "#funcion para api tiene encuenta opciones\n",
        "def peliculas_idioma( Idioma: str ):\n",
        "  #debe ingresar la abreiatura de idioma ya que estan en una misma denominacion del alfabeto\n",
        "  cant=0\n",
        "  for i in range (len(df2[\"original_language\"])):\n",
        "      if Idioma == df2['original_language'][i]:\n",
        "          cant=cant +1\n",
        "  if cant==0:\n",
        "      return (\"Ingreso incorrecto, recuerde escribir todo en minúsculas.\")\n",
        "  else:\n",
        "      return {'Cantidad de pelicula que fueron estrenadas':cant,' en el Idioma':Idioma}\n"
      ],
      "metadata": {
        "id": "EpgmGxdU0iae"
      },
      "execution_count": 22,
      "outputs": []
    },
    {
      "cell_type": "code",
      "source": [
        "#\"cantidad_filmaciones_mes(11)\n",
        "peliculas_idioma('en')"
      ],
      "metadata": {
        "colab": {
          "base_uri": "https://localhost:8080/"
        },
        "id": "k_LNXuXIFLJu",
        "outputId": "d532ea7c-e8c4-49eb-b961-b94331e80b48"
      },
      "execution_count": 23,
      "outputs": [
        {
          "output_type": "execute_result",
          "data": {
            "text/plain": [
              "{'Cantidad de pelicula que fueron estrenadas': 32202, ' en el Idioma': 'en'}"
            ]
          },
          "metadata": {},
          "execution_count": 23
        }
      ]
    },
    {
      "cell_type": "markdown",
      "source": [
        "## Endpoint : pelicula_duracion(Pelicula)\n",
        "\n",
        "\n"
      ],
      "metadata": {
        "id": "1zR_lwzNFrrS"
      }
    },
    {
      "cell_type": "code",
      "source": [
        "def peliculas_duracion( Pelicula: str ):\n",
        "#Se ingresa una pelicula. Debe devolver la la duracion y el año.\n",
        "\n",
        "  for i in range(len(df2[\"title\"])):\n",
        "      cop=(df2[\"title\"][i])\n",
        "      if (Pelicula)==cop:\n",
        "          anio=str(df2[\"release_year\"][i])\n",
        "          duracion=str(df2[\"runtime\"][i])\n",
        "          return{' Titulo de la pelicula':Pelicula,' Duracion':duracion,' Año de estreno':anio}\n"
      ],
      "metadata": {
        "id": "rO-moKvZ6MWr"
      },
      "execution_count": 24,
      "outputs": []
    },
    {
      "cell_type": "code",
      "source": [
        "peliculas_duracion('Jumanji')"
      ],
      "metadata": {
        "colab": {
          "base_uri": "https://localhost:8080/"
        },
        "id": "Kd3PFpwGGXkc",
        "outputId": "a486ea2b-c6e2-41d1-a07a-6382f10c5a6f"
      },
      "execution_count": 25,
      "outputs": [
        {
          "output_type": "execute_result",
          "data": {
            "text/plain": [
              "{' Titulo de la pelicula': 'Jumanji',\n",
              " ' Duracion': '104.0',\n",
              " ' Año de estreno': '1995'}"
            ]
          },
          "metadata": {},
          "execution_count": 25
        }
      ]
    },
    {
      "cell_type": "markdown",
      "source": [
        "## **Endpoint : def franquicia(Franquicia)**"
      ],
      "metadata": {
        "id": "sZ3ZZd_XGpC3"
      }
    },
    {
      "cell_type": "code",
      "source": [
        "h=df2.belongs_to_collection.value_counts()\n",
        "h\n",
        "#h[0]"
      ],
      "metadata": {
        "colab": {
          "base_uri": "https://localhost:8080/"
        },
        "id": "gaeIiS_lGuQy",
        "outputId": "879d0d03-6e0b-4685-c3e2-f0dde7c25e1b"
      },
      "execution_count": null,
      "outputs": [
        {
          "execution_count": 25,
          "output_type": "execute_result",
          "data": {
            "text/plain": [
              "{'id': 415931, 'name': 'The Bowery Boys', 'poster_path': '/q6sA4bzMT9cK7EEmXYwt7PNrL5h.jpg', 'backdrop_path': '/foe3kuiJmg5AklhtD3skWbaTMf2.jpg'}                 29\n",
              "{'id': 421566, 'name': 'Totò Collection', 'poster_path': '/4ayJsjC3djGwU9eCWUokdBWvdLC.jpg', 'backdrop_path': '/jaUuprubvAxXLAY5hUfrNjxccUh.jpg'}                 27\n",
              "{'id': 645, 'name': 'James Bond Collection', 'poster_path': '/HORpg5CSkmeQlAolx3bKMrKgfi.jpg', 'backdrop_path': '/6VcVl48kNKvdXOZfJPdarlUGOsk.jpg'}               26\n",
              "{'id': 96887, 'name': 'Zatôichi: The Blind Swordsman', 'poster_path': '/8Q31DAtmFJjhFTwQGXghBUCgWK2.jpg', 'backdrop_path': '/bY8gLImMR5Pr9PaG3ZpobfaAQ8N.jpg'}    26\n",
              "{'id': 37261, 'name': 'The Carry On Collection', 'poster_path': '/2P0HNrYgKDvirV8RCdT1rBSJdbJ.jpg', 'backdrop_path': '/38tF1LJN7ULeZAuAfP7beaPMfcl.jpg'}          25\n",
              "                                                                                                                                                                  ..\n",
              "{'id': 456580, 'name': 'No Good Middle-Aged Yakuza Trilogy', 'poster_path': None, 'backdrop_path': None}                                                           1\n",
              "{'id': 385650, 'name': 'The Spiritual Boxer Collection', 'poster_path': None, 'backdrop_path': None}                                                               1\n",
              "{'id': 415799, 'name': 'East Side Kids', 'poster_path': None, 'backdrop_path': None}                                                                               1\n",
              "{'id': 285879, 'name': 'Seed Collection', 'poster_path': '/AvwruMfjbfydS9156uzq8gBZ4XN.jpg', 'backdrop_path': None}                                                1\n",
              "{'id': 200641, 'name': 'Red Lotus Collection', 'poster_path': '/yf9Eod9ANXyHTzDpAxz9ezgvlL4.jpg', 'backdrop_path': '/3fhHbLeO3DqdHvgHg5szs399eBb.jpg'}             1\n",
              "Name: belongs_to_collection, Length: 1698, dtype: int64"
            ]
          },
          "metadata": {}
        }
      ]
    },
    {
      "cell_type": "code",
      "source": [
        "df2[df2.belongs_to_collection.isnull()]"
      ],
      "metadata": {
        "colab": {
          "base_uri": "https://localhost:8080/",
          "height": 765
        },
        "id": "QEcQ0j7hG1xt",
        "outputId": "7e732a71-8b72-4238-fd72-3210e1474314"
      },
      "execution_count": 26,
      "outputs": [
        {
          "output_type": "execute_result",
          "data": {
            "text/plain": [
              "      belongs_to_collection      budget      id original_language  \\\n",
              "1                       NaN  65000000.0    8844                en   \n",
              "3                       NaN  16000000.0   31357                en   \n",
              "5                       NaN  60000000.0     949                en   \n",
              "6                       NaN  58000000.0   11860                en   \n",
              "7                       NaN         0.0   45325                en   \n",
              "...                     ...         ...     ...               ...   \n",
              "45374                   NaN         0.0   30840                en   \n",
              "45375                   NaN         0.0  111109                tl   \n",
              "45376                   NaN         0.0   67758                en   \n",
              "45377                   NaN         0.0  227506                en   \n",
              "45378                   NaN         0.0  461257                en   \n",
              "\n",
              "                                    production_companies  \\\n",
              "1      [{'name': 'TriStar Pictures', 'id': 559}, {'na...   \n",
              "3      [{'name': 'Twentieth Century Fox Film Corporat...   \n",
              "5      [{'name': 'Regency Enterprises', 'id': 508}, {...   \n",
              "6      [{'name': 'Paramount Pictures', 'id': 4}, {'na...   \n",
              "7            [{'name': 'Walt Disney Pictures', 'id': 2}]   \n",
              "...                                                  ...   \n",
              "45374  [{'name': 'Westdeutscher Rundfunk (WDR)', 'id'...   \n",
              "45375             [{'name': 'Sine Olivia', 'id': 19653}]   \n",
              "45376  [{'name': 'American World Pictures', 'id': 6165}]   \n",
              "45377               [{'name': 'Yermoliev', 'id': 88753}]   \n",
              "45378                                                 []   \n",
              "\n",
              "                                    production_countries release_date  \\\n",
              "1      [{'iso_3166_1': 'US', 'name': 'United States o...   1995-12-15   \n",
              "3      [{'iso_3166_1': 'US', 'name': 'United States o...   1995-12-22   \n",
              "5      [{'iso_3166_1': 'US', 'name': 'United States o...   1995-12-15   \n",
              "6      [{'iso_3166_1': 'DE', 'name': 'Germany'}, {'is...   1995-12-15   \n",
              "7      [{'iso_3166_1': 'US', 'name': 'United States o...   1995-12-22   \n",
              "...                                                  ...          ...   \n",
              "45374  [{'iso_3166_1': 'CA', 'name': 'Canada'}, {'iso...   1991-05-13   \n",
              "45375      [{'iso_3166_1': 'PH', 'name': 'Philippines'}]   2011-11-17   \n",
              "45376  [{'iso_3166_1': 'US', 'name': 'United States o...   2003-08-01   \n",
              "45377           [{'iso_3166_1': 'RU', 'name': 'Russia'}]   1917-10-21   \n",
              "45378   [{'iso_3166_1': 'GB', 'name': 'United Kingdom'}]   2017-06-09   \n",
              "\n",
              "           revenue  runtime                title  vote_average  vote_count  \\\n",
              "1      262797249.0    104.0              Jumanji           6.9      2413.0   \n",
              "3       81452156.0    127.0    Waiting to Exhale           6.1        34.0   \n",
              "5      187436818.0    170.0                 Heat           7.7      1886.0   \n",
              "6              0.0    127.0              Sabrina           6.2       141.0   \n",
              "7              0.0     97.0         Tom and Huck           5.4        45.0   \n",
              "...            ...      ...                  ...           ...         ...   \n",
              "45374          0.0    104.0           Robin Hood           5.7        26.0   \n",
              "45375          0.0    360.0  Century of Birthing           9.0         3.0   \n",
              "45376          0.0     90.0             Betrayal           3.8         6.0   \n",
              "45377          0.0     87.0     Satan Triumphant           0.0         0.0   \n",
              "45378          0.0     75.0             Queerama           0.0         0.0   \n",
              "\n",
              "      release_year  \n",
              "1             1995  \n",
              "3             1995  \n",
              "5             1995  \n",
              "6             1995  \n",
              "7             1995  \n",
              "...            ...  \n",
              "45374         1991  \n",
              "45375         2011  \n",
              "45376         2003  \n",
              "45377         1917  \n",
              "45378         2017  \n",
              "\n",
              "[40888 rows x 13 columns]"
            ],
            "text/html": [
              "\n",
              "  <div id=\"df-422034ea-c776-435d-b667-ae024f0bbc07\">\n",
              "    <div class=\"colab-df-container\">\n",
              "      <div>\n",
              "<style scoped>\n",
              "    .dataframe tbody tr th:only-of-type {\n",
              "        vertical-align: middle;\n",
              "    }\n",
              "\n",
              "    .dataframe tbody tr th {\n",
              "        vertical-align: top;\n",
              "    }\n",
              "\n",
              "    .dataframe thead th {\n",
              "        text-align: right;\n",
              "    }\n",
              "</style>\n",
              "<table border=\"1\" class=\"dataframe\">\n",
              "  <thead>\n",
              "    <tr style=\"text-align: right;\">\n",
              "      <th></th>\n",
              "      <th>belongs_to_collection</th>\n",
              "      <th>budget</th>\n",
              "      <th>id</th>\n",
              "      <th>original_language</th>\n",
              "      <th>production_companies</th>\n",
              "      <th>production_countries</th>\n",
              "      <th>release_date</th>\n",
              "      <th>revenue</th>\n",
              "      <th>runtime</th>\n",
              "      <th>title</th>\n",
              "      <th>vote_average</th>\n",
              "      <th>vote_count</th>\n",
              "      <th>release_year</th>\n",
              "    </tr>\n",
              "  </thead>\n",
              "  <tbody>\n",
              "    <tr>\n",
              "      <th>1</th>\n",
              "      <td>NaN</td>\n",
              "      <td>65000000.0</td>\n",
              "      <td>8844</td>\n",
              "      <td>en</td>\n",
              "      <td>[{'name': 'TriStar Pictures', 'id': 559}, {'na...</td>\n",
              "      <td>[{'iso_3166_1': 'US', 'name': 'United States o...</td>\n",
              "      <td>1995-12-15</td>\n",
              "      <td>262797249.0</td>\n",
              "      <td>104.0</td>\n",
              "      <td>Jumanji</td>\n",
              "      <td>6.9</td>\n",
              "      <td>2413.0</td>\n",
              "      <td>1995</td>\n",
              "    </tr>\n",
              "    <tr>\n",
              "      <th>3</th>\n",
              "      <td>NaN</td>\n",
              "      <td>16000000.0</td>\n",
              "      <td>31357</td>\n",
              "      <td>en</td>\n",
              "      <td>[{'name': 'Twentieth Century Fox Film Corporat...</td>\n",
              "      <td>[{'iso_3166_1': 'US', 'name': 'United States o...</td>\n",
              "      <td>1995-12-22</td>\n",
              "      <td>81452156.0</td>\n",
              "      <td>127.0</td>\n",
              "      <td>Waiting to Exhale</td>\n",
              "      <td>6.1</td>\n",
              "      <td>34.0</td>\n",
              "      <td>1995</td>\n",
              "    </tr>\n",
              "    <tr>\n",
              "      <th>5</th>\n",
              "      <td>NaN</td>\n",
              "      <td>60000000.0</td>\n",
              "      <td>949</td>\n",
              "      <td>en</td>\n",
              "      <td>[{'name': 'Regency Enterprises', 'id': 508}, {...</td>\n",
              "      <td>[{'iso_3166_1': 'US', 'name': 'United States o...</td>\n",
              "      <td>1995-12-15</td>\n",
              "      <td>187436818.0</td>\n",
              "      <td>170.0</td>\n",
              "      <td>Heat</td>\n",
              "      <td>7.7</td>\n",
              "      <td>1886.0</td>\n",
              "      <td>1995</td>\n",
              "    </tr>\n",
              "    <tr>\n",
              "      <th>6</th>\n",
              "      <td>NaN</td>\n",
              "      <td>58000000.0</td>\n",
              "      <td>11860</td>\n",
              "      <td>en</td>\n",
              "      <td>[{'name': 'Paramount Pictures', 'id': 4}, {'na...</td>\n",
              "      <td>[{'iso_3166_1': 'DE', 'name': 'Germany'}, {'is...</td>\n",
              "      <td>1995-12-15</td>\n",
              "      <td>0.0</td>\n",
              "      <td>127.0</td>\n",
              "      <td>Sabrina</td>\n",
              "      <td>6.2</td>\n",
              "      <td>141.0</td>\n",
              "      <td>1995</td>\n",
              "    </tr>\n",
              "    <tr>\n",
              "      <th>7</th>\n",
              "      <td>NaN</td>\n",
              "      <td>0.0</td>\n",
              "      <td>45325</td>\n",
              "      <td>en</td>\n",
              "      <td>[{'name': 'Walt Disney Pictures', 'id': 2}]</td>\n",
              "      <td>[{'iso_3166_1': 'US', 'name': 'United States o...</td>\n",
              "      <td>1995-12-22</td>\n",
              "      <td>0.0</td>\n",
              "      <td>97.0</td>\n",
              "      <td>Tom and Huck</td>\n",
              "      <td>5.4</td>\n",
              "      <td>45.0</td>\n",
              "      <td>1995</td>\n",
              "    </tr>\n",
              "    <tr>\n",
              "      <th>...</th>\n",
              "      <td>...</td>\n",
              "      <td>...</td>\n",
              "      <td>...</td>\n",
              "      <td>...</td>\n",
              "      <td>...</td>\n",
              "      <td>...</td>\n",
              "      <td>...</td>\n",
              "      <td>...</td>\n",
              "      <td>...</td>\n",
              "      <td>...</td>\n",
              "      <td>...</td>\n",
              "      <td>...</td>\n",
              "      <td>...</td>\n",
              "    </tr>\n",
              "    <tr>\n",
              "      <th>45374</th>\n",
              "      <td>NaN</td>\n",
              "      <td>0.0</td>\n",
              "      <td>30840</td>\n",
              "      <td>en</td>\n",
              "      <td>[{'name': 'Westdeutscher Rundfunk (WDR)', 'id'...</td>\n",
              "      <td>[{'iso_3166_1': 'CA', 'name': 'Canada'}, {'iso...</td>\n",
              "      <td>1991-05-13</td>\n",
              "      <td>0.0</td>\n",
              "      <td>104.0</td>\n",
              "      <td>Robin Hood</td>\n",
              "      <td>5.7</td>\n",
              "      <td>26.0</td>\n",
              "      <td>1991</td>\n",
              "    </tr>\n",
              "    <tr>\n",
              "      <th>45375</th>\n",
              "      <td>NaN</td>\n",
              "      <td>0.0</td>\n",
              "      <td>111109</td>\n",
              "      <td>tl</td>\n",
              "      <td>[{'name': 'Sine Olivia', 'id': 19653}]</td>\n",
              "      <td>[{'iso_3166_1': 'PH', 'name': 'Philippines'}]</td>\n",
              "      <td>2011-11-17</td>\n",
              "      <td>0.0</td>\n",
              "      <td>360.0</td>\n",
              "      <td>Century of Birthing</td>\n",
              "      <td>9.0</td>\n",
              "      <td>3.0</td>\n",
              "      <td>2011</td>\n",
              "    </tr>\n",
              "    <tr>\n",
              "      <th>45376</th>\n",
              "      <td>NaN</td>\n",
              "      <td>0.0</td>\n",
              "      <td>67758</td>\n",
              "      <td>en</td>\n",
              "      <td>[{'name': 'American World Pictures', 'id': 6165}]</td>\n",
              "      <td>[{'iso_3166_1': 'US', 'name': 'United States o...</td>\n",
              "      <td>2003-08-01</td>\n",
              "      <td>0.0</td>\n",
              "      <td>90.0</td>\n",
              "      <td>Betrayal</td>\n",
              "      <td>3.8</td>\n",
              "      <td>6.0</td>\n",
              "      <td>2003</td>\n",
              "    </tr>\n",
              "    <tr>\n",
              "      <th>45377</th>\n",
              "      <td>NaN</td>\n",
              "      <td>0.0</td>\n",
              "      <td>227506</td>\n",
              "      <td>en</td>\n",
              "      <td>[{'name': 'Yermoliev', 'id': 88753}]</td>\n",
              "      <td>[{'iso_3166_1': 'RU', 'name': 'Russia'}]</td>\n",
              "      <td>1917-10-21</td>\n",
              "      <td>0.0</td>\n",
              "      <td>87.0</td>\n",
              "      <td>Satan Triumphant</td>\n",
              "      <td>0.0</td>\n",
              "      <td>0.0</td>\n",
              "      <td>1917</td>\n",
              "    </tr>\n",
              "    <tr>\n",
              "      <th>45378</th>\n",
              "      <td>NaN</td>\n",
              "      <td>0.0</td>\n",
              "      <td>461257</td>\n",
              "      <td>en</td>\n",
              "      <td>[]</td>\n",
              "      <td>[{'iso_3166_1': 'GB', 'name': 'United Kingdom'}]</td>\n",
              "      <td>2017-06-09</td>\n",
              "      <td>0.0</td>\n",
              "      <td>75.0</td>\n",
              "      <td>Queerama</td>\n",
              "      <td>0.0</td>\n",
              "      <td>0.0</td>\n",
              "      <td>2017</td>\n",
              "    </tr>\n",
              "  </tbody>\n",
              "</table>\n",
              "<p>40888 rows × 13 columns</p>\n",
              "</div>\n",
              "      <button class=\"colab-df-convert\" onclick=\"convertToInteractive('df-422034ea-c776-435d-b667-ae024f0bbc07')\"\n",
              "              title=\"Convert this dataframe to an interactive table.\"\n",
              "              style=\"display:none;\">\n",
              "        \n",
              "  <svg xmlns=\"http://www.w3.org/2000/svg\" height=\"24px\"viewBox=\"0 0 24 24\"\n",
              "       width=\"24px\">\n",
              "    <path d=\"M0 0h24v24H0V0z\" fill=\"none\"/>\n",
              "    <path d=\"M18.56 5.44l.94 2.06.94-2.06 2.06-.94-2.06-.94-.94-2.06-.94 2.06-2.06.94zm-11 1L8.5 8.5l.94-2.06 2.06-.94-2.06-.94L8.5 2.5l-.94 2.06-2.06.94zm10 10l.94 2.06.94-2.06 2.06-.94-2.06-.94-.94-2.06-.94 2.06-2.06.94z\"/><path d=\"M17.41 7.96l-1.37-1.37c-.4-.4-.92-.59-1.43-.59-.52 0-1.04.2-1.43.59L10.3 9.45l-7.72 7.72c-.78.78-.78 2.05 0 2.83L4 21.41c.39.39.9.59 1.41.59.51 0 1.02-.2 1.41-.59l7.78-7.78 2.81-2.81c.8-.78.8-2.07 0-2.86zM5.41 20L4 18.59l7.72-7.72 1.47 1.35L5.41 20z\"/>\n",
              "  </svg>\n",
              "      </button>\n",
              "      \n",
              "  <style>\n",
              "    .colab-df-container {\n",
              "      display:flex;\n",
              "      flex-wrap:wrap;\n",
              "      gap: 12px;\n",
              "    }\n",
              "\n",
              "    .colab-df-convert {\n",
              "      background-color: #E8F0FE;\n",
              "      border: none;\n",
              "      border-radius: 50%;\n",
              "      cursor: pointer;\n",
              "      display: none;\n",
              "      fill: #1967D2;\n",
              "      height: 32px;\n",
              "      padding: 0 0 0 0;\n",
              "      width: 32px;\n",
              "    }\n",
              "\n",
              "    .colab-df-convert:hover {\n",
              "      background-color: #E2EBFA;\n",
              "      box-shadow: 0px 1px 2px rgba(60, 64, 67, 0.3), 0px 1px 3px 1px rgba(60, 64, 67, 0.15);\n",
              "      fill: #174EA6;\n",
              "    }\n",
              "\n",
              "    [theme=dark] .colab-df-convert {\n",
              "      background-color: #3B4455;\n",
              "      fill: #D2E3FC;\n",
              "    }\n",
              "\n",
              "    [theme=dark] .colab-df-convert:hover {\n",
              "      background-color: #434B5C;\n",
              "      box-shadow: 0px 1px 3px 1px rgba(0, 0, 0, 0.15);\n",
              "      filter: drop-shadow(0px 1px 2px rgba(0, 0, 0, 0.3));\n",
              "      fill: #FFFFFF;\n",
              "    }\n",
              "  </style>\n",
              "\n",
              "      <script>\n",
              "        const buttonEl =\n",
              "          document.querySelector('#df-422034ea-c776-435d-b667-ae024f0bbc07 button.colab-df-convert');\n",
              "        buttonEl.style.display =\n",
              "          google.colab.kernel.accessAllowed ? 'block' : 'none';\n",
              "\n",
              "        async function convertToInteractive(key) {\n",
              "          const element = document.querySelector('#df-422034ea-c776-435d-b667-ae024f0bbc07');\n",
              "          const dataTable =\n",
              "            await google.colab.kernel.invokeFunction('convertToInteractive',\n",
              "                                                     [key], {});\n",
              "          if (!dataTable) return;\n",
              "\n",
              "          const docLinkHtml = 'Like what you see? Visit the ' +\n",
              "            '<a target=\"_blank\" href=https://colab.research.google.com/notebooks/data_table.ipynb>data table notebook</a>'\n",
              "            + ' to learn more about interactive tables.';\n",
              "          element.innerHTML = '';\n",
              "          dataTable['output_type'] = 'display_data';\n",
              "          await google.colab.output.renderOutput(dataTable, element);\n",
              "          const docLink = document.createElement('div');\n",
              "          docLink.innerHTML = docLinkHtml;\n",
              "          element.appendChild(docLink);\n",
              "        }\n",
              "      </script>\n",
              "    </div>\n",
              "  </div>\n",
              "  "
            ]
          },
          "metadata": {},
          "execution_count": 26
        }
      ]
    },
    {
      "cell_type": "code",
      "source": [
        "df2.belongs_to_collection[0]"
      ],
      "metadata": {
        "colab": {
          "base_uri": "https://localhost:8080/",
          "height": 53
        },
        "id": "L6BxXrYmHAfj",
        "outputId": "3a17a65f-ef22-4259-e620-ec0ae5ed5876"
      },
      "execution_count": 27,
      "outputs": [
        {
          "output_type": "execute_result",
          "data": {
            "text/plain": [
              "\"{'id': 10194, 'name': 'Toy Story Collection', 'poster_path': '/7G9915LfUQ2lVfwMEEhDsn3kT4B.jpg', 'backdrop_path': '/9FBwqcd9IRruEDUrTdcaafOMKUq.jpg'}\""
            ],
            "application/vnd.google.colaboratory.intrinsic+json": {
              "type": "string"
            }
          },
          "metadata": {},
          "execution_count": 27
        }
      ]
    },
    {
      "cell_type": "code",
      "source": [
        "df2[df2.belongs_to_collection==\"{'id': 10194, 'name': 'Toy Story Collection', 'poster_path': '/7G9915LfUQ2lVfwMEEhDsn3kT4B.jpg', 'backdrop_path': '/9FBwqcd9IRruEDUrTdcaafOMKUq.jpg'}\"]"
      ],
      "metadata": {
        "colab": {
          "base_uri": "https://localhost:8080/",
          "height": 312
        },
        "id": "y59fRxJIHRHl",
        "outputId": "2574d3bf-fcf1-4b62-f0b0-bc34f59b9988"
      },
      "execution_count": 28,
      "outputs": [
        {
          "output_type": "execute_result",
          "data": {
            "text/plain": [
              "                                   belongs_to_collection       budget     id  \\\n",
              "0      {'id': 10194, 'name': 'Toy Story Collection', ...   30000000.0    862   \n",
              "2995   {'id': 10194, 'name': 'Toy Story Collection', ...   90000000.0    863   \n",
              "15341  {'id': 10194, 'name': 'Toy Story Collection', ...  200000000.0  10193   \n",
              "\n",
              "      original_language                               production_companies  \\\n",
              "0                    en     [{'name': 'Pixar Animation Studios', 'id': 3}]   \n",
              "2995                 en     [{'name': 'Pixar Animation Studios', 'id': 3}]   \n",
              "15341                en  [{'name': 'Walt Disney Pictures', 'id': 2}, {'...   \n",
              "\n",
              "                                    production_countries release_date  \\\n",
              "0      [{'iso_3166_1': 'US', 'name': 'United States o...   1995-10-30   \n",
              "2995   [{'iso_3166_1': 'US', 'name': 'United States o...   1999-10-30   \n",
              "15341  [{'iso_3166_1': 'US', 'name': 'United States o...   2010-06-16   \n",
              "\n",
              "            revenue  runtime        title  vote_average  vote_count  \\\n",
              "0      3.735540e+08     81.0    Toy Story           7.7      5415.0   \n",
              "2995   4.973669e+08     92.0  Toy Story 2           7.3      3914.0   \n",
              "15341  1.066970e+09    103.0  Toy Story 3           7.6      4710.0   \n",
              "\n",
              "      release_year  \n",
              "0             1995  \n",
              "2995          1999  \n",
              "15341         2010  "
            ],
            "text/html": [
              "\n",
              "  <div id=\"df-c9e0ec52-8488-4094-9f3c-f7efc8a69059\">\n",
              "    <div class=\"colab-df-container\">\n",
              "      <div>\n",
              "<style scoped>\n",
              "    .dataframe tbody tr th:only-of-type {\n",
              "        vertical-align: middle;\n",
              "    }\n",
              "\n",
              "    .dataframe tbody tr th {\n",
              "        vertical-align: top;\n",
              "    }\n",
              "\n",
              "    .dataframe thead th {\n",
              "        text-align: right;\n",
              "    }\n",
              "</style>\n",
              "<table border=\"1\" class=\"dataframe\">\n",
              "  <thead>\n",
              "    <tr style=\"text-align: right;\">\n",
              "      <th></th>\n",
              "      <th>belongs_to_collection</th>\n",
              "      <th>budget</th>\n",
              "      <th>id</th>\n",
              "      <th>original_language</th>\n",
              "      <th>production_companies</th>\n",
              "      <th>production_countries</th>\n",
              "      <th>release_date</th>\n",
              "      <th>revenue</th>\n",
              "      <th>runtime</th>\n",
              "      <th>title</th>\n",
              "      <th>vote_average</th>\n",
              "      <th>vote_count</th>\n",
              "      <th>release_year</th>\n",
              "    </tr>\n",
              "  </thead>\n",
              "  <tbody>\n",
              "    <tr>\n",
              "      <th>0</th>\n",
              "      <td>{'id': 10194, 'name': 'Toy Story Collection', ...</td>\n",
              "      <td>30000000.0</td>\n",
              "      <td>862</td>\n",
              "      <td>en</td>\n",
              "      <td>[{'name': 'Pixar Animation Studios', 'id': 3}]</td>\n",
              "      <td>[{'iso_3166_1': 'US', 'name': 'United States o...</td>\n",
              "      <td>1995-10-30</td>\n",
              "      <td>3.735540e+08</td>\n",
              "      <td>81.0</td>\n",
              "      <td>Toy Story</td>\n",
              "      <td>7.7</td>\n",
              "      <td>5415.0</td>\n",
              "      <td>1995</td>\n",
              "    </tr>\n",
              "    <tr>\n",
              "      <th>2995</th>\n",
              "      <td>{'id': 10194, 'name': 'Toy Story Collection', ...</td>\n",
              "      <td>90000000.0</td>\n",
              "      <td>863</td>\n",
              "      <td>en</td>\n",
              "      <td>[{'name': 'Pixar Animation Studios', 'id': 3}]</td>\n",
              "      <td>[{'iso_3166_1': 'US', 'name': 'United States o...</td>\n",
              "      <td>1999-10-30</td>\n",
              "      <td>4.973669e+08</td>\n",
              "      <td>92.0</td>\n",
              "      <td>Toy Story 2</td>\n",
              "      <td>7.3</td>\n",
              "      <td>3914.0</td>\n",
              "      <td>1999</td>\n",
              "    </tr>\n",
              "    <tr>\n",
              "      <th>15341</th>\n",
              "      <td>{'id': 10194, 'name': 'Toy Story Collection', ...</td>\n",
              "      <td>200000000.0</td>\n",
              "      <td>10193</td>\n",
              "      <td>en</td>\n",
              "      <td>[{'name': 'Walt Disney Pictures', 'id': 2}, {'...</td>\n",
              "      <td>[{'iso_3166_1': 'US', 'name': 'United States o...</td>\n",
              "      <td>2010-06-16</td>\n",
              "      <td>1.066970e+09</td>\n",
              "      <td>103.0</td>\n",
              "      <td>Toy Story 3</td>\n",
              "      <td>7.6</td>\n",
              "      <td>4710.0</td>\n",
              "      <td>2010</td>\n",
              "    </tr>\n",
              "  </tbody>\n",
              "</table>\n",
              "</div>\n",
              "      <button class=\"colab-df-convert\" onclick=\"convertToInteractive('df-c9e0ec52-8488-4094-9f3c-f7efc8a69059')\"\n",
              "              title=\"Convert this dataframe to an interactive table.\"\n",
              "              style=\"display:none;\">\n",
              "        \n",
              "  <svg xmlns=\"http://www.w3.org/2000/svg\" height=\"24px\"viewBox=\"0 0 24 24\"\n",
              "       width=\"24px\">\n",
              "    <path d=\"M0 0h24v24H0V0z\" fill=\"none\"/>\n",
              "    <path d=\"M18.56 5.44l.94 2.06.94-2.06 2.06-.94-2.06-.94-.94-2.06-.94 2.06-2.06.94zm-11 1L8.5 8.5l.94-2.06 2.06-.94-2.06-.94L8.5 2.5l-.94 2.06-2.06.94zm10 10l.94 2.06.94-2.06 2.06-.94-2.06-.94-.94-2.06-.94 2.06-2.06.94z\"/><path d=\"M17.41 7.96l-1.37-1.37c-.4-.4-.92-.59-1.43-.59-.52 0-1.04.2-1.43.59L10.3 9.45l-7.72 7.72c-.78.78-.78 2.05 0 2.83L4 21.41c.39.39.9.59 1.41.59.51 0 1.02-.2 1.41-.59l7.78-7.78 2.81-2.81c.8-.78.8-2.07 0-2.86zM5.41 20L4 18.59l7.72-7.72 1.47 1.35L5.41 20z\"/>\n",
              "  </svg>\n",
              "      </button>\n",
              "      \n",
              "  <style>\n",
              "    .colab-df-container {\n",
              "      display:flex;\n",
              "      flex-wrap:wrap;\n",
              "      gap: 12px;\n",
              "    }\n",
              "\n",
              "    .colab-df-convert {\n",
              "      background-color: #E8F0FE;\n",
              "      border: none;\n",
              "      border-radius: 50%;\n",
              "      cursor: pointer;\n",
              "      display: none;\n",
              "      fill: #1967D2;\n",
              "      height: 32px;\n",
              "      padding: 0 0 0 0;\n",
              "      width: 32px;\n",
              "    }\n",
              "\n",
              "    .colab-df-convert:hover {\n",
              "      background-color: #E2EBFA;\n",
              "      box-shadow: 0px 1px 2px rgba(60, 64, 67, 0.3), 0px 1px 3px 1px rgba(60, 64, 67, 0.15);\n",
              "      fill: #174EA6;\n",
              "    }\n",
              "\n",
              "    [theme=dark] .colab-df-convert {\n",
              "      background-color: #3B4455;\n",
              "      fill: #D2E3FC;\n",
              "    }\n",
              "\n",
              "    [theme=dark] .colab-df-convert:hover {\n",
              "      background-color: #434B5C;\n",
              "      box-shadow: 0px 1px 3px 1px rgba(0, 0, 0, 0.15);\n",
              "      filter: drop-shadow(0px 1px 2px rgba(0, 0, 0, 0.3));\n",
              "      fill: #FFFFFF;\n",
              "    }\n",
              "  </style>\n",
              "\n",
              "      <script>\n",
              "        const buttonEl =\n",
              "          document.querySelector('#df-c9e0ec52-8488-4094-9f3c-f7efc8a69059 button.colab-df-convert');\n",
              "        buttonEl.style.display =\n",
              "          google.colab.kernel.accessAllowed ? 'block' : 'none';\n",
              "\n",
              "        async function convertToInteractive(key) {\n",
              "          const element = document.querySelector('#df-c9e0ec52-8488-4094-9f3c-f7efc8a69059');\n",
              "          const dataTable =\n",
              "            await google.colab.kernel.invokeFunction('convertToInteractive',\n",
              "                                                     [key], {});\n",
              "          if (!dataTable) return;\n",
              "\n",
              "          const docLinkHtml = 'Like what you see? Visit the ' +\n",
              "            '<a target=\"_blank\" href=https://colab.research.google.com/notebooks/data_table.ipynb>data table notebook</a>'\n",
              "            + ' to learn more about interactive tables.';\n",
              "          element.innerHTML = '';\n",
              "          dataTable['output_type'] = 'display_data';\n",
              "          await google.colab.output.renderOutput(dataTable, element);\n",
              "          const docLink = document.createElement('div');\n",
              "          docLink.innerHTML = docLinkHtml;\n",
              "          element.appendChild(docLink);\n",
              "        }\n",
              "      </script>\n",
              "    </div>\n",
              "  </div>\n",
              "  "
            ]
          },
          "metadata": {},
          "execution_count": 28
        }
      ]
    },
    {
      "cell_type": "code",
      "source": [
        "type(df2.belongs_to_collection[0])"
      ],
      "metadata": {
        "colab": {
          "base_uri": "https://localhost:8080/"
        },
        "id": "kwqc_gnMJ2Zq",
        "outputId": "ca1a7c83-03f8-4b42-fad6-6aecad77ae48"
      },
      "execution_count": 29,
      "outputs": [
        {
          "output_type": "execute_result",
          "data": {
            "text/plain": [
              "str"
            ]
          },
          "metadata": {},
          "execution_count": 29
        }
      ]
    },
    {
      "cell_type": "markdown",
      "source": [
        "luego de analizar la estructura y el tipo de la columna belong_to_collection ,extraigo la informacion requerida"
      ],
      "metadata": {
        "id": "7aVuOjCyOBek"
      }
    },
    {
      "cell_type": "code",
      "source": [
        "df2.belongs_to_collection=df2.belongs_to_collection.astype('str', errors='raise')"
      ],
      "metadata": {
        "id": "irqF3XFuJ_qF"
      },
      "execution_count": 30,
      "outputs": []
    },
    {
      "cell_type": "code",
      "source": [
        "import ast\n",
        "# inicialiso diccionario\n",
        "dictionary={}\n",
        "li=[]\n",
        "\n",
        "for i in range(len(df)):\n",
        "\n",
        "    if  df2.belongs_to_collection[i]!='nan':\n",
        "      # string a diccionario\n",
        "        dictionary = ast.literal_eval(df2.belongs_to_collection[i])\n",
        "        #evito los valores nulos comparandolo como  un tipo de dato distinto\n",
        "        if type(dictionary) !=float:\n",
        "            li.append(dictionary[\"name\"])\n",
        "            #imprime los valores ,permite visualizacion progreso\n",
        "            #print(dictionary[\"name\"])\n",
        "    else:\n",
        "        li.append(\"sin_franquicia\")\n",
        "df2[\"Franquicia_P\"]=pd.Series(li)\n",
        "\n",
        "#dfc.Franquicia_P.fillna('sin_franquicia',inplace=True)"
      ],
      "metadata": {
        "id": "QmA1Fh42KIcs"
      },
      "execution_count": 31,
      "outputs": []
    },
    {
      "cell_type": "code",
      "source": [
        "df2.Franquicia_P.isnull()"
      ],
      "metadata": {
        "colab": {
          "base_uri": "https://localhost:8080/"
        },
        "id": "4E8XKxSpKVWJ",
        "outputId": "f81a10ef-5274-4c85-bd2d-1d90267a86db"
      },
      "execution_count": 32,
      "outputs": [
        {
          "output_type": "execute_result",
          "data": {
            "text/plain": [
              "0        False\n",
              "1        False\n",
              "2        False\n",
              "3        False\n",
              "4        False\n",
              "         ...  \n",
              "45374    False\n",
              "45375    False\n",
              "45376     True\n",
              "45377     True\n",
              "45378     True\n",
              "Name: Franquicia_P, Length: 45379, dtype: bool"
            ]
          },
          "metadata": {},
          "execution_count": 32
        }
      ]
    },
    {
      "cell_type": "code",
      "source": [
        "df2.Franquicia_P.fillna('sin_franquicia',inplace=True)"
      ],
      "metadata": {
        "id": "i1hjEyk2KcM7"
      },
      "execution_count": 33,
      "outputs": []
    },
    {
      "cell_type": "code",
      "source": [
        "df2.Franquicia_P.isnull()"
      ],
      "metadata": {
        "colab": {
          "base_uri": "https://localhost:8080/"
        },
        "id": "jQu6aNyfKkVD",
        "outputId": "99fb5522-a0c0-4ed4-e125-17c9762edb30"
      },
      "execution_count": 34,
      "outputs": [
        {
          "output_type": "execute_result",
          "data": {
            "text/plain": [
              "0        False\n",
              "1        False\n",
              "2        False\n",
              "3        False\n",
              "4        False\n",
              "         ...  \n",
              "45374    False\n",
              "45375    False\n",
              "45376    False\n",
              "45377    False\n",
              "45378    False\n",
              "Name: Franquicia_P, Length: 45379, dtype: bool"
            ]
          },
          "metadata": {},
          "execution_count": 34
        }
      ]
    },
    {
      "cell_type": "code",
      "source": [
        "df2.info()"
      ],
      "metadata": {
        "colab": {
          "base_uri": "https://localhost:8080/"
        },
        "id": "jmrrE5G2K-kc",
        "outputId": "80452837-bf9b-488a-e060-c85283a70073"
      },
      "execution_count": 35,
      "outputs": [
        {
          "output_type": "stream",
          "name": "stdout",
          "text": [
            "<class 'pandas.core.frame.DataFrame'>\n",
            "RangeIndex: 45379 entries, 0 to 45378\n",
            "Data columns (total 14 columns):\n",
            " #   Column                 Non-Null Count  Dtype         \n",
            "---  ------                 --------------  -----         \n",
            " 0   belongs_to_collection  45379 non-null  object        \n",
            " 1   budget                 45379 non-null  float64       \n",
            " 2   id                     45379 non-null  object        \n",
            " 3   original_language      45368 non-null  object        \n",
            " 4   production_companies   45379 non-null  object        \n",
            " 5   production_countries   45379 non-null  object        \n",
            " 6   release_date           45379 non-null  datetime64[ns]\n",
            " 7   revenue                45379 non-null  float64       \n",
            " 8   runtime                45130 non-null  float64       \n",
            " 9   title                  45376 non-null  object        \n",
            " 10  vote_average           45376 non-null  float64       \n",
            " 11  vote_count             45376 non-null  float64       \n",
            " 12  release_year           45379 non-null  string        \n",
            " 13  Franquicia_P           45379 non-null  object        \n",
            "dtypes: datetime64[ns](1), float64(5), object(7), string(1)\n",
            "memory usage: 4.8+ MB\n"
          ]
        }
      ]
    },
    {
      "cell_type": "code",
      "source": [
        "df2.Franquicia_P.value_counts()"
      ],
      "metadata": {
        "colab": {
          "base_uri": "https://localhost:8080/"
        },
        "id": "E7Zsyr8ALGND",
        "outputId": "82678a48-e85c-4962-dabb-bf4752c16d60"
      },
      "execution_count": 36,
      "outputs": [
        {
          "output_type": "execute_result",
          "data": {
            "text/plain": [
              "sin_franquicia                   40891\n",
              "The Bowery Boys                     29\n",
              "Totò Collection                     27\n",
              "James Bond Collection               26\n",
              "Zatôichi: The Blind Swordsman       26\n",
              "                                 ...  \n",
              "Glass Tiger collection               1\n",
              "Kathleen Madigan Collection          1\n",
              "The Big Bottom Box                   1\n",
              "Joséphine - Saga                     1\n",
              "Red Lotus Collection                 1\n",
              "Name: Franquicia_P, Length: 1696, dtype: int64"
            ]
          },
          "metadata": {},
          "execution_count": 36
        }
      ]
    },
    {
      "cell_type": "code",
      "source": [
        "def franquicia( Franquicia:str ):\n",
        "  ganancia=0\n",
        "  cant=0\n",
        "  for i  in range(len(df2)):\n",
        "      if df2.Franquicia_P[i]==Franquicia:\n",
        "          cant=cant+1\n",
        "          ganancia=ganancia+df2.revenue[i]\n",
        "  if cant==0:\n",
        "      return{'Ingreso incorrecto,recuerde escribir todo en minusculas'}\n",
        "  else:\n",
        "      return{'La franquicia':Franquicia, 'posee  peliculas':cant, 'una ganancia total de': ganancia,' y una ganancia promedio de':ganancia/cant}"
      ],
      "metadata": {
        "id": "BnA6FWiNNM8m"
      },
      "execution_count": 37,
      "outputs": []
    },
    {
      "cell_type": "code",
      "source": [
        "franquicia(\"Toy Story Collection\")"
      ],
      "metadata": {
        "colab": {
          "base_uri": "https://localhost:8080/"
        },
        "id": "uSrhZKxfNdXf",
        "outputId": "f4ac52f3-47aa-4b33-9413-8faa94e5271f"
      },
      "execution_count": 38,
      "outputs": [
        {
          "output_type": "execute_result",
          "data": {
            "text/plain": [
              "{'La franquicia': 'Toy Story Collection',\n",
              " 'posee  peliculas': 3,\n",
              " 'una ganancia total de': 1937890605.0,\n",
              " ' y una ganancia promedio de': 645963535.0}"
            ]
          },
          "metadata": {},
          "execution_count": 38
        }
      ]
    },
    {
      "cell_type": "code",
      "source": [
        "#Verifico lo resultados de la api\n",
        "df2[df2.Franquicia_P==\"Toy Story Collection\"].title"
      ],
      "metadata": {
        "colab": {
          "base_uri": "https://localhost:8080/"
        },
        "id": "98CJHozmNi9l",
        "outputId": "38cf163a-873a-41a5-b4e7-e3553600d12c"
      },
      "execution_count": 39,
      "outputs": [
        {
          "output_type": "execute_result",
          "data": {
            "text/plain": [
              "0          Toy Story\n",
              "2995     Toy Story 2\n",
              "15341    Toy Story 3\n",
              "Name: title, dtype: object"
            ]
          },
          "metadata": {},
          "execution_count": 39
        }
      ]
    },
    {
      "cell_type": "markdown",
      "source": [
        "## **Endpoint : def peliculas_pais( Pais)**"
      ],
      "metadata": {
        "id": "1s_G1jh6NrkB"
      }
    },
    {
      "cell_type": "code",
      "source": [
        "df2.production_countries[1]"
      ],
      "metadata": {
        "colab": {
          "base_uri": "https://localhost:8080/",
          "height": 35
        },
        "id": "2p90p6nMRDPv",
        "outputId": "66e5f330-fabe-41db-969d-f28573c0ea16"
      },
      "execution_count": 40,
      "outputs": [
        {
          "output_type": "execute_result",
          "data": {
            "text/plain": [
              "\"[{'iso_3166_1': 'US', 'name': 'United States of America'}]\""
            ],
            "application/vnd.google.colaboratory.intrinsic+json": {
              "type": "string"
            }
          },
          "metadata": {},
          "execution_count": 40
        }
      ]
    },
    {
      "cell_type": "code",
      "source": [
        "df2.production_countries=df2.production_countries.astype('str', errors='raise')"
      ],
      "metadata": {
        "id": "LKLEDVsORfaj"
      },
      "execution_count": 41,
      "outputs": []
    },
    {
      "cell_type": "code",
      "source": [
        "df2.production_countries.value_counts()"
      ],
      "metadata": {
        "colab": {
          "base_uri": "https://localhost:8080/"
        },
        "id": "XdSSr1YhRsWc",
        "outputId": "863fcad1-6e39-4df1-dc13-e051a3ded2ae"
      },
      "execution_count": 42,
      "outputs": [
        {
          "output_type": "execute_result",
          "data": {
            "text/plain": [
              "[{'iso_3166_1': 'US', 'name': 'United States of America'}]                                                                                                          17846\n",
              "[]                                                                                                                                                                   6211\n",
              "[{'iso_3166_1': 'GB', 'name': 'United Kingdom'}]                                                                                                                     2235\n",
              "[{'iso_3166_1': 'FR', 'name': 'France'}]                                                                                                                             1653\n",
              "[{'iso_3166_1': 'JP', 'name': 'Japan'}]                                                                                                                              1356\n",
              "                                                                                                                                                                    ...  \n",
              "[{'iso_3166_1': 'AU', 'name': 'Australia'}, {'iso_3166_1': 'ZA', 'name': 'South Africa'}]                                                                               1\n",
              "[{'iso_3166_1': 'RO', 'name': 'Romania'}, {'iso_3166_1': 'GB', 'name': 'United Kingdom'}, {'iso_3166_1': 'CA', 'name': 'Canada'}]                                       1\n",
              "[{'iso_3166_1': 'FI', 'name': 'Finland'}, {'iso_3166_1': 'DE', 'name': 'Germany'}, {'iso_3166_1': 'NL', 'name': 'Netherlands'}]                                         1\n",
              "[{'iso_3166_1': 'FR', 'name': 'France'}, {'iso_3166_1': 'DK', 'name': 'Denmark'}, {'iso_3166_1': 'ES', 'name': 'Spain'}, {'iso_3166_1': 'SE', 'name': 'Sweden'}]        1\n",
              "[{'iso_3166_1': 'EG', 'name': 'Egypt'}, {'iso_3166_1': 'IT', 'name': 'Italy'}, {'iso_3166_1': 'US', 'name': 'United States of America'}]                                1\n",
              "Name: production_countries, Length: 2392, dtype: int64"
            ]
          },
          "metadata": {},
          "execution_count": 42
        }
      ]
    },
    {
      "cell_type": "code",
      "source": [
        "import ast\n",
        "# initialising string dictionary\n",
        "dictionary={}\n",
        "lit=[]\n",
        "lista=[]\n",
        "err=[]\n",
        "for i in range(len(df2)):\n",
        "    string = df2.production_countries[i]\n",
        "    if string=='[]':\n",
        "         lista.append('sin_informacion')\n",
        "    else:\n",
        "        lit=[]\n",
        "        if  df2.production_countries[i]!='nan':\n",
        "            #caracteres a eliminar\n",
        "            characters = \"[]\"\n",
        "\n",
        "            for x in range(len(characters)):\n",
        "                string = string.replace(characters[x],\"\")\n",
        "            #evaluo la cadena resultante\n",
        "            dictionary = ast.literal_eval(string)\n",
        "            #asigno tratamiento segun tipo\n",
        "            if type(dictionary)==tuple:\n",
        "                for y in dictionary:\n",
        "                    yy=str(y)\n",
        "                    di=ast.literal_eval(yy)\n",
        "                    lit.append(di[\"name\"])\n",
        "                lista.append(lit)\n",
        "            elif type(dictionary)==dict :\n",
        "                lista.append(dictionary[\"name\"])\n",
        "            else:\n",
        "                #busqueda discrepancias y errores\n",
        "                err.append(i)\n",
        "                lista.append(\"sin_informacion\")\n",
        "\n",
        "        else:\n",
        "            lista.append(\"sin_informacion\")\n",
        "##########print('errores:',err)\n",
        "df2[\"paises\"]=pd.Series(lista)"
      ],
      "metadata": {
        "id": "NHuARWBLRxUf"
      },
      "execution_count": 43,
      "outputs": []
    },
    {
      "cell_type": "code",
      "source": [
        "# errores posiciones: [19714, 29472, 35543]\n",
        " #dffr.production_countries[]\n",
        "df2.iloc[35543]# valores a eliminar"
      ],
      "metadata": {
        "colab": {
          "base_uri": "https://localhost:8080/"
        },
        "id": "-Xheqc57St8u",
        "outputId": "fccae30b-aa26-43ec-a5e9-f42f12933f9e"
      },
      "execution_count": 44,
      "outputs": [
        {
          "output_type": "execute_result",
          "data": {
            "text/plain": [
              "belongs_to_collection               2.185485\n",
              "budget                                   0.0\n",
              "id                                2014-01-01\n",
              "original_language                       82.0\n",
              "production_companies                   False\n",
              "production_countries                     4.3\n",
              "release_date             2000-01-01 00:00:00\n",
              "revenue                                  0.0\n",
              "runtime                                  NaN\n",
              "title                                    NaN\n",
              "vote_average                             NaN\n",
              "vote_count                               NaN\n",
              "release_year                            2000\n",
              "Franquicia_P                  sin_franquicia\n",
              "paises                       sin_informacion\n",
              "Name: 35543, dtype: object"
            ]
          },
          "metadata": {},
          "execution_count": 44
        }
      ]
    },
    {
      "cell_type": "code",
      "source": [
        "df2[df2.paises.isnull()]"
      ],
      "metadata": {
        "colab": {
          "base_uri": "https://localhost:8080/",
          "height": 113
        },
        "id": "i53KZPqFSU55",
        "outputId": "579fa661-bf27-4c2d-8679-9db60511b379"
      },
      "execution_count": 45,
      "outputs": [
        {
          "output_type": "execute_result",
          "data": {
            "text/plain": [
              "Empty DataFrame\n",
              "Columns: [belongs_to_collection, budget, id, original_language, production_companies, production_countries, release_date, revenue, runtime, title, vote_average, vote_count, release_year, Franquicia_P, paises]\n",
              "Index: []"
            ],
            "text/html": [
              "\n",
              "  <div id=\"df-a46fd1b1-5907-4842-bd52-08b3b62a042c\">\n",
              "    <div class=\"colab-df-container\">\n",
              "      <div>\n",
              "<style scoped>\n",
              "    .dataframe tbody tr th:only-of-type {\n",
              "        vertical-align: middle;\n",
              "    }\n",
              "\n",
              "    .dataframe tbody tr th {\n",
              "        vertical-align: top;\n",
              "    }\n",
              "\n",
              "    .dataframe thead th {\n",
              "        text-align: right;\n",
              "    }\n",
              "</style>\n",
              "<table border=\"1\" class=\"dataframe\">\n",
              "  <thead>\n",
              "    <tr style=\"text-align: right;\">\n",
              "      <th></th>\n",
              "      <th>belongs_to_collection</th>\n",
              "      <th>budget</th>\n",
              "      <th>id</th>\n",
              "      <th>original_language</th>\n",
              "      <th>production_companies</th>\n",
              "      <th>production_countries</th>\n",
              "      <th>release_date</th>\n",
              "      <th>revenue</th>\n",
              "      <th>runtime</th>\n",
              "      <th>title</th>\n",
              "      <th>vote_average</th>\n",
              "      <th>vote_count</th>\n",
              "      <th>release_year</th>\n",
              "      <th>Franquicia_P</th>\n",
              "      <th>paises</th>\n",
              "    </tr>\n",
              "  </thead>\n",
              "  <tbody>\n",
              "  </tbody>\n",
              "</table>\n",
              "</div>\n",
              "      <button class=\"colab-df-convert\" onclick=\"convertToInteractive('df-a46fd1b1-5907-4842-bd52-08b3b62a042c')\"\n",
              "              title=\"Convert this dataframe to an interactive table.\"\n",
              "              style=\"display:none;\">\n",
              "        \n",
              "  <svg xmlns=\"http://www.w3.org/2000/svg\" height=\"24px\"viewBox=\"0 0 24 24\"\n",
              "       width=\"24px\">\n",
              "    <path d=\"M0 0h24v24H0V0z\" fill=\"none\"/>\n",
              "    <path d=\"M18.56 5.44l.94 2.06.94-2.06 2.06-.94-2.06-.94-.94-2.06-.94 2.06-2.06.94zm-11 1L8.5 8.5l.94-2.06 2.06-.94-2.06-.94L8.5 2.5l-.94 2.06-2.06.94zm10 10l.94 2.06.94-2.06 2.06-.94-2.06-.94-.94-2.06-.94 2.06-2.06.94z\"/><path d=\"M17.41 7.96l-1.37-1.37c-.4-.4-.92-.59-1.43-.59-.52 0-1.04.2-1.43.59L10.3 9.45l-7.72 7.72c-.78.78-.78 2.05 0 2.83L4 21.41c.39.39.9.59 1.41.59.51 0 1.02-.2 1.41-.59l7.78-7.78 2.81-2.81c.8-.78.8-2.07 0-2.86zM5.41 20L4 18.59l7.72-7.72 1.47 1.35L5.41 20z\"/>\n",
              "  </svg>\n",
              "      </button>\n",
              "      \n",
              "  <style>\n",
              "    .colab-df-container {\n",
              "      display:flex;\n",
              "      flex-wrap:wrap;\n",
              "      gap: 12px;\n",
              "    }\n",
              "\n",
              "    .colab-df-convert {\n",
              "      background-color: #E8F0FE;\n",
              "      border: none;\n",
              "      border-radius: 50%;\n",
              "      cursor: pointer;\n",
              "      display: none;\n",
              "      fill: #1967D2;\n",
              "      height: 32px;\n",
              "      padding: 0 0 0 0;\n",
              "      width: 32px;\n",
              "    }\n",
              "\n",
              "    .colab-df-convert:hover {\n",
              "      background-color: #E2EBFA;\n",
              "      box-shadow: 0px 1px 2px rgba(60, 64, 67, 0.3), 0px 1px 3px 1px rgba(60, 64, 67, 0.15);\n",
              "      fill: #174EA6;\n",
              "    }\n",
              "\n",
              "    [theme=dark] .colab-df-convert {\n",
              "      background-color: #3B4455;\n",
              "      fill: #D2E3FC;\n",
              "    }\n",
              "\n",
              "    [theme=dark] .colab-df-convert:hover {\n",
              "      background-color: #434B5C;\n",
              "      box-shadow: 0px 1px 3px 1px rgba(0, 0, 0, 0.15);\n",
              "      filter: drop-shadow(0px 1px 2px rgba(0, 0, 0, 0.3));\n",
              "      fill: #FFFFFF;\n",
              "    }\n",
              "  </style>\n",
              "\n",
              "      <script>\n",
              "        const buttonEl =\n",
              "          document.querySelector('#df-a46fd1b1-5907-4842-bd52-08b3b62a042c button.colab-df-convert');\n",
              "        buttonEl.style.display =\n",
              "          google.colab.kernel.accessAllowed ? 'block' : 'none';\n",
              "\n",
              "        async function convertToInteractive(key) {\n",
              "          const element = document.querySelector('#df-a46fd1b1-5907-4842-bd52-08b3b62a042c');\n",
              "          const dataTable =\n",
              "            await google.colab.kernel.invokeFunction('convertToInteractive',\n",
              "                                                     [key], {});\n",
              "          if (!dataTable) return;\n",
              "\n",
              "          const docLinkHtml = 'Like what you see? Visit the ' +\n",
              "            '<a target=\"_blank\" href=https://colab.research.google.com/notebooks/data_table.ipynb>data table notebook</a>'\n",
              "            + ' to learn more about interactive tables.';\n",
              "          element.innerHTML = '';\n",
              "          dataTable['output_type'] = 'display_data';\n",
              "          await google.colab.output.renderOutput(dataTable, element);\n",
              "          const docLink = document.createElement('div');\n",
              "          docLink.innerHTML = docLinkHtml;\n",
              "          element.appendChild(docLink);\n",
              "        }\n",
              "      </script>\n",
              "    </div>\n",
              "  </div>\n",
              "  "
            ]
          },
          "metadata": {},
          "execution_count": 45
        }
      ]
    },
    {
      "cell_type": "code",
      "source": [
        "df2.paises.value_counts()"
      ],
      "metadata": {
        "colab": {
          "base_uri": "https://localhost:8080/"
        },
        "id": "8AWA1YCOSeYw",
        "outputId": "6a240917-4350-46b7-d4b7-0055b28b8f05"
      },
      "execution_count": 46,
      "outputs": [
        {
          "output_type": "execute_result",
          "data": {
            "text/plain": [
              "United States of America                      17846\n",
              "sin_informacion                                6214\n",
              "United Kingdom                                 2235\n",
              "France                                         1653\n",
              "Japan                                          1356\n",
              "                                              ...  \n",
              "[Romania, United Kingdom, Canada]                 1\n",
              "[Finland, Germany, Netherlands]                   1\n",
              "[France, Denmark, Spain, Sweden]                  1\n",
              "[France, United States of America, Canada]        1\n",
              "[Egypt, Italy, United States of America]          1\n",
              "Name: paises, Length: 2389, dtype: int64"
            ]
          },
          "metadata": {},
          "execution_count": 46
        }
      ]
    },
    {
      "cell_type": "code",
      "source": [
        "# errores: [19714, 29472, 35543]\n",
        " #dffr.production_countries[]\n",
        "df2.iloc[35543]"
      ],
      "metadata": {
        "colab": {
          "base_uri": "https://localhost:8080/"
        },
        "id": "-LhnFrAWS8f2",
        "outputId": "83ff02b2-65b8-434a-f2f8-3ec1249428dc"
      },
      "execution_count": null,
      "outputs": [
        {
          "execution_count": 47,
          "output_type": "execute_result",
          "data": {
            "text/plain": [
              "belongs_to_collection               2.185485\n",
              "budget                                   0.0\n",
              "id                                2014-01-01\n",
              "original_language                       82.0\n",
              "production_companies                   False\n",
              "production_countries                     4.3\n",
              "release_date             2000-01-01 00:00:00\n",
              "revenue                                  0.0\n",
              "runtime                                  NaN\n",
              "title                                    NaN\n",
              "vote_average                             NaN\n",
              "vote_count                               NaN\n",
              "release_year                            2000\n",
              "Franquicia_P                  sin_franquicia\n",
              "paises                       sin_informacion\n",
              "Name: 35543, dtype: object"
            ]
          },
          "metadata": {}
        }
      ]
    },
    {
      "cell_type": "code",
      "source": [
        "def peliculas_pais( Pais: str ):\n",
        "# Se ingresa un país (como están escritos en el dataset, no hay que\n",
        "# traducirlos!), retornando la cantidad de peliculas producidas en el mismo.\n",
        "#                   Ejemplo de retorno: Se produjeron X películas en el país X\n",
        "\n",
        "  cant=0\n",
        "  for i  in range(len(df2.paises)):\n",
        "\n",
        "      if type(df2.paises[i])==list:\n",
        "          for j in df2.paises[i]:\n",
        "              #print(dffr.paises[i])\n",
        "              #print(j)\n",
        "              if j==Pais:\n",
        "                  cant=cant+1\n",
        "      else:\n",
        "          if df2.paises[i]==Pais:\n",
        "              cant=cant+1\n",
        "\n",
        "  if cant==0:\n",
        "      print('Ingreso incorrecto,recuerde escribir todo en minusculas')\n",
        "  return{'Se produjeron ':cant,' películas en el país ':Pais}"
      ],
      "metadata": {
        "id": "YfhP0qhnTuT7"
      },
      "execution_count": 47,
      "outputs": []
    },
    {
      "cell_type": "code",
      "source": [
        "peliculas_pais('United States of America')"
      ],
      "metadata": {
        "colab": {
          "base_uri": "https://localhost:8080/"
        },
        "id": "hPnmNoZxT-TT",
        "outputId": "5e1028e7-954d-4bcd-bd32-0cb349f550bc"
      },
      "execution_count": 48,
      "outputs": [
        {
          "output_type": "execute_result",
          "data": {
            "text/plain": [
              "{'Se produjeron ': 21147, ' películas en el país ': 'United States of America'}"
            ]
          },
          "metadata": {},
          "execution_count": 48
        }
      ]
    },
    {
      "cell_type": "markdown",
      "source": [
        "## **Endpoint  : productoras_exitosas(Productora)**"
      ],
      "metadata": {
        "id": "iHCsenA1ULXE"
      }
    },
    {
      "cell_type": "code",
      "source": [
        "df2.production_companies.value_counts()"
      ],
      "metadata": {
        "colab": {
          "base_uri": "https://localhost:8080/"
        },
        "id": "JLtvYia2U2z6",
        "outputId": "d66bc506-1625-4322-bdb6-da3228f55f94"
      },
      "execution_count": 49,
      "outputs": [
        {
          "output_type": "execute_result",
          "data": {
            "text/plain": [
              "[]                                                                                                                      11796\n",
              "[{'name': 'Metro-Goldwyn-Mayer (MGM)', 'id': 8411}]                                                                       742\n",
              "[{'name': 'Warner Bros.', 'id': 6194}]                                                                                    540\n",
              "[{'name': 'Paramount Pictures', 'id': 4}]                                                                                 505\n",
              "[{'name': 'Twentieth Century Fox Film Corporation', 'id': 306}]                                                           439\n",
              "                                                                                                                        ...  \n",
              "[{'name': 'M.K.D. Films Combine', 'id': 28518}]                                                                             1\n",
              "[{'name': 'Circle Films', 'id': 11273}, {'name': 'DuArt', 'id': 20049}, {'name': 'Anyway Productions', 'id': 40240}]        1\n",
              "[{'name': 'Crown-Hausman', 'id': 73471}]                                                                                    1\n",
              "[{'name': 'Miracin Korea Film Company', 'id': 6597}]                                                                        1\n",
              "[{'name': 'Yermoliev', 'id': 88753}]                                                                                        1\n",
              "Name: production_companies, Length: 22704, dtype: int64"
            ]
          },
          "metadata": {},
          "execution_count": 49
        }
      ]
    },
    {
      "cell_type": "code",
      "source": [
        "df2.production_companies[1]"
      ],
      "metadata": {
        "colab": {
          "base_uri": "https://localhost:8080/",
          "height": 53
        },
        "id": "mMmHqJfeVBlP",
        "outputId": "af02d69c-38ae-4e7b-8047-2f87ea2353d7"
      },
      "execution_count": 50,
      "outputs": [
        {
          "output_type": "execute_result",
          "data": {
            "text/plain": [
              "\"[{'name': 'TriStar Pictures', 'id': 559}, {'name': 'Teitler Film', 'id': 2550}, {'name': 'Interscope Communications', 'id': 10201}]\""
            ],
            "application/vnd.google.colaboratory.intrinsic+json": {
              "type": "string"
            }
          },
          "metadata": {},
          "execution_count": 50
        }
      ]
    },
    {
      "cell_type": "markdown",
      "source": [
        "Luego de analizar la columna production _companies extraigo la informacion requerida"
      ],
      "metadata": {
        "id": "4qK04CeXPE55"
      }
    },
    {
      "cell_type": "code",
      "source": [
        "import ast\n",
        "# initialising string dictionary\n",
        "dictionary={}\n",
        "lit=[]\n",
        "lista=[]\n",
        "err=[]\n",
        "for i in range(len(df2)):\n",
        "    string = df2.production_companies[i]\n",
        "    if string=='[]':\n",
        "         lista.append('sin_informacion')\n",
        "    else:\n",
        "        lit=[]\n",
        "        if  df2.production_companies[i]!='nan':\n",
        "            #caracteres a eliminar\n",
        "            characters = \"[]\"\n",
        "\n",
        "            for x in range(len(characters)):\n",
        "                string = string.replace(characters[x],\"\")\n",
        "            #evaluo la cadena resultante\n",
        "            dictionary = ast.literal_eval(string)\n",
        "            #asigno tratamiento segun tipo\n",
        "            if type(dictionary)==tuple:\n",
        "                for y in dictionary:\n",
        "                    yy=str(y)\n",
        "                    di=ast.literal_eval(yy)\n",
        "                    lit.append(di[\"name\"])\n",
        "                lista.append(lit)\n",
        "            elif type(dictionary)==dict :\n",
        "                lista.append(dictionary[\"name\"])\n",
        "            else:\n",
        "                #busqueda discrepancias y errores\n",
        "                err.append(i)\n",
        "                lista.append(\"sin_informacion\")\n",
        "\n",
        "        else:\n",
        "            lista.append(\"sin_informacion\")\n",
        "##########print('errores:',err)\n",
        "df2[\"productoras\"]=pd.Series(lista)"
      ],
      "metadata": {
        "id": "MM6qAQAlVOyR"
      },
      "execution_count": 51,
      "outputs": []
    },
    {
      "cell_type": "code",
      "source": [
        "def productoras_exitosas( Productora: str ):\n",
        "#Se ingresa la productora, entregandote el revunue total y la cantidad de\n",
        "#peliculas que realizo.\n",
        "  ganancia=0\n",
        "  band=False\n",
        "  cant=0\n",
        "  for i  in range(len(df2.productoras)):\n",
        "      if type(df2.productoras[i])==list:\n",
        "          for j in df2.productoras[i]:\n",
        "              if j==Productora:\n",
        "                  band=True\n",
        "                  ganancia=ganancia+df2.revenue[i]\n",
        "                  cant=cant+1\n",
        "      else:\n",
        "          if df2.productoras[i]==Productora:\n",
        "              band=True\n",
        "              ganancia=ganancia+df2.revenue[i]\n",
        "              cant=cant+1\n",
        "  if band==False:\n",
        "      return{' Ingreso incorrecto,Recuerde diferenciar mayuscula y minusculas'}\n",
        "  else:\n",
        "      return{' La productora: ':Productora,' revenue_total ':ganancia,'cantidad':str(cant)}"
      ],
      "metadata": {
        "id": "AUNM6Xz6Vjsh"
      },
      "execution_count": 52,
      "outputs": []
    },
    {
      "cell_type": "code",
      "source": [
        "productoras_exitosas('Warner Bros.')"
      ],
      "metadata": {
        "colab": {
          "base_uri": "https://localhost:8080/"
        },
        "id": "FzUtpGcOWBLy",
        "outputId": "03f4794e-a698-4196-a6c3-57e335bb3c8c"
      },
      "execution_count": 53,
      "outputs": [
        {
          "output_type": "execute_result",
          "data": {
            "text/plain": [
              "{' La productora: ': 'Warner Bros.',\n",
              " ' revenue_total ': 63525187272.0,\n",
              " 'cantidad': '1250'}"
            ]
          },
          "metadata": {},
          "execution_count": 53
        }
      ]
    },
    {
      "cell_type": "code",
      "source": [
        "df2.info()"
      ],
      "metadata": {
        "colab": {
          "base_uri": "https://localhost:8080/"
        },
        "id": "Riv6Zq4oaEzO",
        "outputId": "6bfd2949-9a59-4b41-f15d-35d0cdf5c33e"
      },
      "execution_count": 54,
      "outputs": [
        {
          "output_type": "stream",
          "name": "stdout",
          "text": [
            "<class 'pandas.core.frame.DataFrame'>\n",
            "RangeIndex: 45379 entries, 0 to 45378\n",
            "Data columns (total 16 columns):\n",
            " #   Column                 Non-Null Count  Dtype         \n",
            "---  ------                 --------------  -----         \n",
            " 0   belongs_to_collection  45379 non-null  object        \n",
            " 1   budget                 45379 non-null  float64       \n",
            " 2   id                     45379 non-null  object        \n",
            " 3   original_language      45368 non-null  object        \n",
            " 4   production_companies   45379 non-null  object        \n",
            " 5   production_countries   45379 non-null  object        \n",
            " 6   release_date           45379 non-null  datetime64[ns]\n",
            " 7   revenue                45379 non-null  float64       \n",
            " 8   runtime                45130 non-null  float64       \n",
            " 9   title                  45376 non-null  object        \n",
            " 10  vote_average           45376 non-null  float64       \n",
            " 11  vote_count             45376 non-null  float64       \n",
            " 12  release_year           45379 non-null  string        \n",
            " 13  Franquicia_P           45379 non-null  object        \n",
            " 14  paises                 45379 non-null  object        \n",
            " 15  productoras            45379 non-null  object        \n",
            "dtypes: datetime64[ns](1), float64(5), object(9), string(1)\n",
            "memory usage: 5.5+ MB\n"
          ]
        }
      ]
    },
    {
      "cell_type": "markdown",
      "source": [
        "*csv final para consultas en deploy de api*"
      ],
      "metadata": {
        "id": "kLjT_3ESakkR"
      }
    },
    {
      "cell_type": "code",
      "source": [
        "df2.drop(['production_companies','production_countries','belongs_to_collection'], axis = 'columns', inplace=True)"
      ],
      "metadata": {
        "id": "zbjovyQFaigC"
      },
      "execution_count": 55,
      "outputs": []
    },
    {
      "cell_type": "code",
      "source": [
        "df2.info()"
      ],
      "metadata": {
        "colab": {
          "base_uri": "https://localhost:8080/"
        },
        "id": "S4XQL3FSbdmE",
        "outputId": "d1d28e77-7595-48a0-f549-7c8a923acf24"
      },
      "execution_count": 56,
      "outputs": [
        {
          "output_type": "stream",
          "name": "stdout",
          "text": [
            "<class 'pandas.core.frame.DataFrame'>\n",
            "RangeIndex: 45379 entries, 0 to 45378\n",
            "Data columns (total 13 columns):\n",
            " #   Column             Non-Null Count  Dtype         \n",
            "---  ------             --------------  -----         \n",
            " 0   budget             45379 non-null  float64       \n",
            " 1   id                 45379 non-null  object        \n",
            " 2   original_language  45368 non-null  object        \n",
            " 3   release_date       45379 non-null  datetime64[ns]\n",
            " 4   revenue            45379 non-null  float64       \n",
            " 5   runtime            45130 non-null  float64       \n",
            " 6   title              45376 non-null  object        \n",
            " 7   vote_average       45376 non-null  float64       \n",
            " 8   vote_count         45376 non-null  float64       \n",
            " 9   release_year       45379 non-null  string        \n",
            " 10  Franquicia_P       45379 non-null  object        \n",
            " 11  paises             45379 non-null  object        \n",
            " 12  productoras        45379 non-null  object        \n",
            "dtypes: datetime64[ns](1), float64(5), object(6), string(1)\n",
            "memory usage: 4.5+ MB\n"
          ]
        }
      ]
    },
    {
      "cell_type": "code",
      "source": [
        "df2.head(5)"
      ],
      "metadata": {
        "colab": {
          "base_uri": "https://localhost:8080/",
          "height": 548
        },
        "id": "Fo0CKhZ5bw_W",
        "outputId": "9b9898eb-09ed-4368-ccf8-3b3f96187e57"
      },
      "execution_count": 57,
      "outputs": [
        {
          "output_type": "execute_result",
          "data": {
            "text/plain": [
              "       budget     id original_language release_date      revenue  runtime  \\\n",
              "0  30000000.0    862                en   1995-10-30  373554033.0     81.0   \n",
              "1  65000000.0   8844                en   1995-12-15  262797249.0    104.0   \n",
              "2         0.0  15602                en   1995-12-22          0.0    101.0   \n",
              "3  16000000.0  31357                en   1995-12-22   81452156.0    127.0   \n",
              "4         0.0  11862                en   1995-02-10   76578911.0    106.0   \n",
              "\n",
              "                         title  vote_average  vote_count release_year  \\\n",
              "0                    Toy Story           7.7      5415.0         1995   \n",
              "1                      Jumanji           6.9      2413.0         1995   \n",
              "2             Grumpier Old Men           6.5        92.0         1995   \n",
              "3            Waiting to Exhale           6.1        34.0         1995   \n",
              "4  Father of the Bride Part II           5.7       173.0         1995   \n",
              "\n",
              "                     Franquicia_P                    paises  \\\n",
              "0            Toy Story Collection  United States of America   \n",
              "1                  sin_franquicia  United States of America   \n",
              "2       Grumpy Old Men Collection  United States of America   \n",
              "3                  sin_franquicia  United States of America   \n",
              "4  Father of the Bride Collection  United States of America   \n",
              "\n",
              "                                         productoras  \n",
              "0                            Pixar Animation Studios  \n",
              "1  [TriStar Pictures, Teitler Film, Interscope Co...  \n",
              "2                     [Warner Bros., Lancaster Gate]  \n",
              "3             Twentieth Century Fox Film Corporation  \n",
              "4       [Sandollar Productions, Touchstone Pictures]  "
            ],
            "text/html": [
              "\n",
              "  <div id=\"df-bf6bfd4f-4267-437c-bc4e-5da1b3e12c2c\">\n",
              "    <div class=\"colab-df-container\">\n",
              "      <div>\n",
              "<style scoped>\n",
              "    .dataframe tbody tr th:only-of-type {\n",
              "        vertical-align: middle;\n",
              "    }\n",
              "\n",
              "    .dataframe tbody tr th {\n",
              "        vertical-align: top;\n",
              "    }\n",
              "\n",
              "    .dataframe thead th {\n",
              "        text-align: right;\n",
              "    }\n",
              "</style>\n",
              "<table border=\"1\" class=\"dataframe\">\n",
              "  <thead>\n",
              "    <tr style=\"text-align: right;\">\n",
              "      <th></th>\n",
              "      <th>budget</th>\n",
              "      <th>id</th>\n",
              "      <th>original_language</th>\n",
              "      <th>release_date</th>\n",
              "      <th>revenue</th>\n",
              "      <th>runtime</th>\n",
              "      <th>title</th>\n",
              "      <th>vote_average</th>\n",
              "      <th>vote_count</th>\n",
              "      <th>release_year</th>\n",
              "      <th>Franquicia_P</th>\n",
              "      <th>paises</th>\n",
              "      <th>productoras</th>\n",
              "    </tr>\n",
              "  </thead>\n",
              "  <tbody>\n",
              "    <tr>\n",
              "      <th>0</th>\n",
              "      <td>30000000.0</td>\n",
              "      <td>862</td>\n",
              "      <td>en</td>\n",
              "      <td>1995-10-30</td>\n",
              "      <td>373554033.0</td>\n",
              "      <td>81.0</td>\n",
              "      <td>Toy Story</td>\n",
              "      <td>7.7</td>\n",
              "      <td>5415.0</td>\n",
              "      <td>1995</td>\n",
              "      <td>Toy Story Collection</td>\n",
              "      <td>United States of America</td>\n",
              "      <td>Pixar Animation Studios</td>\n",
              "    </tr>\n",
              "    <tr>\n",
              "      <th>1</th>\n",
              "      <td>65000000.0</td>\n",
              "      <td>8844</td>\n",
              "      <td>en</td>\n",
              "      <td>1995-12-15</td>\n",
              "      <td>262797249.0</td>\n",
              "      <td>104.0</td>\n",
              "      <td>Jumanji</td>\n",
              "      <td>6.9</td>\n",
              "      <td>2413.0</td>\n",
              "      <td>1995</td>\n",
              "      <td>sin_franquicia</td>\n",
              "      <td>United States of America</td>\n",
              "      <td>[TriStar Pictures, Teitler Film, Interscope Co...</td>\n",
              "    </tr>\n",
              "    <tr>\n",
              "      <th>2</th>\n",
              "      <td>0.0</td>\n",
              "      <td>15602</td>\n",
              "      <td>en</td>\n",
              "      <td>1995-12-22</td>\n",
              "      <td>0.0</td>\n",
              "      <td>101.0</td>\n",
              "      <td>Grumpier Old Men</td>\n",
              "      <td>6.5</td>\n",
              "      <td>92.0</td>\n",
              "      <td>1995</td>\n",
              "      <td>Grumpy Old Men Collection</td>\n",
              "      <td>United States of America</td>\n",
              "      <td>[Warner Bros., Lancaster Gate]</td>\n",
              "    </tr>\n",
              "    <tr>\n",
              "      <th>3</th>\n",
              "      <td>16000000.0</td>\n",
              "      <td>31357</td>\n",
              "      <td>en</td>\n",
              "      <td>1995-12-22</td>\n",
              "      <td>81452156.0</td>\n",
              "      <td>127.0</td>\n",
              "      <td>Waiting to Exhale</td>\n",
              "      <td>6.1</td>\n",
              "      <td>34.0</td>\n",
              "      <td>1995</td>\n",
              "      <td>sin_franquicia</td>\n",
              "      <td>United States of America</td>\n",
              "      <td>Twentieth Century Fox Film Corporation</td>\n",
              "    </tr>\n",
              "    <tr>\n",
              "      <th>4</th>\n",
              "      <td>0.0</td>\n",
              "      <td>11862</td>\n",
              "      <td>en</td>\n",
              "      <td>1995-02-10</td>\n",
              "      <td>76578911.0</td>\n",
              "      <td>106.0</td>\n",
              "      <td>Father of the Bride Part II</td>\n",
              "      <td>5.7</td>\n",
              "      <td>173.0</td>\n",
              "      <td>1995</td>\n",
              "      <td>Father of the Bride Collection</td>\n",
              "      <td>United States of America</td>\n",
              "      <td>[Sandollar Productions, Touchstone Pictures]</td>\n",
              "    </tr>\n",
              "  </tbody>\n",
              "</table>\n",
              "</div>\n",
              "      <button class=\"colab-df-convert\" onclick=\"convertToInteractive('df-bf6bfd4f-4267-437c-bc4e-5da1b3e12c2c')\"\n",
              "              title=\"Convert this dataframe to an interactive table.\"\n",
              "              style=\"display:none;\">\n",
              "        \n",
              "  <svg xmlns=\"http://www.w3.org/2000/svg\" height=\"24px\"viewBox=\"0 0 24 24\"\n",
              "       width=\"24px\">\n",
              "    <path d=\"M0 0h24v24H0V0z\" fill=\"none\"/>\n",
              "    <path d=\"M18.56 5.44l.94 2.06.94-2.06 2.06-.94-2.06-.94-.94-2.06-.94 2.06-2.06.94zm-11 1L8.5 8.5l.94-2.06 2.06-.94-2.06-.94L8.5 2.5l-.94 2.06-2.06.94zm10 10l.94 2.06.94-2.06 2.06-.94-2.06-.94-.94-2.06-.94 2.06-2.06.94z\"/><path d=\"M17.41 7.96l-1.37-1.37c-.4-.4-.92-.59-1.43-.59-.52 0-1.04.2-1.43.59L10.3 9.45l-7.72 7.72c-.78.78-.78 2.05 0 2.83L4 21.41c.39.39.9.59 1.41.59.51 0 1.02-.2 1.41-.59l7.78-7.78 2.81-2.81c.8-.78.8-2.07 0-2.86zM5.41 20L4 18.59l7.72-7.72 1.47 1.35L5.41 20z\"/>\n",
              "  </svg>\n",
              "      </button>\n",
              "      \n",
              "  <style>\n",
              "    .colab-df-container {\n",
              "      display:flex;\n",
              "      flex-wrap:wrap;\n",
              "      gap: 12px;\n",
              "    }\n",
              "\n",
              "    .colab-df-convert {\n",
              "      background-color: #E8F0FE;\n",
              "      border: none;\n",
              "      border-radius: 50%;\n",
              "      cursor: pointer;\n",
              "      display: none;\n",
              "      fill: #1967D2;\n",
              "      height: 32px;\n",
              "      padding: 0 0 0 0;\n",
              "      width: 32px;\n",
              "    }\n",
              "\n",
              "    .colab-df-convert:hover {\n",
              "      background-color: #E2EBFA;\n",
              "      box-shadow: 0px 1px 2px rgba(60, 64, 67, 0.3), 0px 1px 3px 1px rgba(60, 64, 67, 0.15);\n",
              "      fill: #174EA6;\n",
              "    }\n",
              "\n",
              "    [theme=dark] .colab-df-convert {\n",
              "      background-color: #3B4455;\n",
              "      fill: #D2E3FC;\n",
              "    }\n",
              "\n",
              "    [theme=dark] .colab-df-convert:hover {\n",
              "      background-color: #434B5C;\n",
              "      box-shadow: 0px 1px 3px 1px rgba(0, 0, 0, 0.15);\n",
              "      filter: drop-shadow(0px 1px 2px rgba(0, 0, 0, 0.3));\n",
              "      fill: #FFFFFF;\n",
              "    }\n",
              "  </style>\n",
              "\n",
              "      <script>\n",
              "        const buttonEl =\n",
              "          document.querySelector('#df-bf6bfd4f-4267-437c-bc4e-5da1b3e12c2c button.colab-df-convert');\n",
              "        buttonEl.style.display =\n",
              "          google.colab.kernel.accessAllowed ? 'block' : 'none';\n",
              "\n",
              "        async function convertToInteractive(key) {\n",
              "          const element = document.querySelector('#df-bf6bfd4f-4267-437c-bc4e-5da1b3e12c2c');\n",
              "          const dataTable =\n",
              "            await google.colab.kernel.invokeFunction('convertToInteractive',\n",
              "                                                     [key], {});\n",
              "          if (!dataTable) return;\n",
              "\n",
              "          const docLinkHtml = 'Like what you see? Visit the ' +\n",
              "            '<a target=\"_blank\" href=https://colab.research.google.com/notebooks/data_table.ipynb>data table notebook</a>'\n",
              "            + ' to learn more about interactive tables.';\n",
              "          element.innerHTML = '';\n",
              "          dataTable['output_type'] = 'display_data';\n",
              "          await google.colab.output.renderOutput(dataTable, element);\n",
              "          const docLink = document.createElement('div');\n",
              "          docLink.innerHTML = docLinkHtml;\n",
              "          element.appendChild(docLink);\n",
              "        }\n",
              "      </script>\n",
              "    </div>\n",
              "  </div>\n",
              "  "
            ]
          },
          "metadata": {},
          "execution_count": 57
        }
      ]
    },
    {
      "cell_type": "code",
      "source": [
        "df2.info()"
      ],
      "metadata": {
        "colab": {
          "base_uri": "https://localhost:8080/"
        },
        "id": "5wWN7hyDDD2F",
        "outputId": "ae840c04-b0f7-46b4-b9ba-d53c1bbbbd0a"
      },
      "execution_count": 58,
      "outputs": [
        {
          "output_type": "stream",
          "name": "stdout",
          "text": [
            "<class 'pandas.core.frame.DataFrame'>\n",
            "RangeIndex: 45379 entries, 0 to 45378\n",
            "Data columns (total 13 columns):\n",
            " #   Column             Non-Null Count  Dtype         \n",
            "---  ------             --------------  -----         \n",
            " 0   budget             45379 non-null  float64       \n",
            " 1   id                 45379 non-null  object        \n",
            " 2   original_language  45368 non-null  object        \n",
            " 3   release_date       45379 non-null  datetime64[ns]\n",
            " 4   revenue            45379 non-null  float64       \n",
            " 5   runtime            45130 non-null  float64       \n",
            " 6   title              45376 non-null  object        \n",
            " 7   vote_average       45376 non-null  float64       \n",
            " 8   vote_count         45376 non-null  float64       \n",
            " 9   release_year       45379 non-null  string        \n",
            " 10  Franquicia_P       45379 non-null  object        \n",
            " 11  paises             45379 non-null  object        \n",
            " 12  productoras        45379 non-null  object        \n",
            "dtypes: datetime64[ns](1), float64(5), object(6), string(1)\n",
            "memory usage: 4.5+ MB\n"
          ]
        }
      ]
    },
    {
      "cell_type": "code",
      "source": [
        "df2.to_csv('mov_API_12.csv', index=False)"
      ],
      "metadata": {
        "id": "UO4DOZfBZ2BF"
      },
      "execution_count": null,
      "outputs": []
    },
    {
      "cell_type": "markdown",
      "source": [
        "## **Endpoint :  get_director(director)**"
      ],
      "metadata": {
        "id": "BUaJv6TjTJ3f"
      }
    },
    {
      "cell_type": "code",
      "source": [
        "# Archivo completo a analizar\"\n",
        "df1 = pd.read_csv(\"/content/drive/MyDrive/Colab Notebooks/csv_12/credits.csv\")\n"
      ],
      "metadata": {
        "id": "O5NCM-SMTLmv"
      },
      "execution_count": 59,
      "outputs": []
    },
    {
      "cell_type": "code",
      "source": [
        "df1.info()"
      ],
      "metadata": {
        "colab": {
          "base_uri": "https://localhost:8080/"
        },
        "id": "VJ2kKnuETSYI",
        "outputId": "9b8e76c5-a788-45fa-d1c5-45f88d994737"
      },
      "execution_count": 60,
      "outputs": [
        {
          "output_type": "stream",
          "name": "stdout",
          "text": [
            "<class 'pandas.core.frame.DataFrame'>\n",
            "RangeIndex: 45476 entries, 0 to 45475\n",
            "Data columns (total 3 columns):\n",
            " #   Column  Non-Null Count  Dtype \n",
            "---  ------  --------------  ----- \n",
            " 0   cast    45476 non-null  object\n",
            " 1   crew    45476 non-null  object\n",
            " 2   id      45476 non-null  int64 \n",
            "dtypes: int64(1), object(2)\n",
            "memory usage: 1.0+ MB\n"
          ]
        }
      ]
    },
    {
      "cell_type": "code",
      "source": [
        "df1.drop(['cast'], axis = 'columns', inplace=True)"
      ],
      "metadata": {
        "id": "KEN2TxbCTfM8"
      },
      "execution_count": 61,
      "outputs": []
    },
    {
      "cell_type": "code",
      "source": [
        "df1.info()"
      ],
      "metadata": {
        "colab": {
          "base_uri": "https://localhost:8080/"
        },
        "id": "mCMZsDvUTg2I",
        "outputId": "388453ed-7f41-4cfd-cbdc-c5e09f7cfa64"
      },
      "execution_count": 62,
      "outputs": [
        {
          "output_type": "stream",
          "name": "stdout",
          "text": [
            "<class 'pandas.core.frame.DataFrame'>\n",
            "RangeIndex: 45476 entries, 0 to 45475\n",
            "Data columns (total 2 columns):\n",
            " #   Column  Non-Null Count  Dtype \n",
            "---  ------  --------------  ----- \n",
            " 0   crew    45476 non-null  object\n",
            " 1   id      45476 non-null  int64 \n",
            "dtypes: int64(1), object(1)\n",
            "memory usage: 710.7+ KB\n"
          ]
        }
      ]
    },
    {
      "cell_type": "code",
      "source": [
        "df1.to_csv('crew_api_12.csv', index=False)"
      ],
      "metadata": {
        "id": "WIWnUhNVTk5p"
      },
      "execution_count": 63,
      "outputs": []
    },
    {
      "cell_type": "code",
      "source": [
        "df1.head(3)"
      ],
      "metadata": {
        "colab": {
          "base_uri": "https://localhost:8080/",
          "height": 143
        },
        "id": "i7aA9n1WT4qc",
        "outputId": "836095a3-4130-447f-a0b4-bc316629dd2e"
      },
      "execution_count": 64,
      "outputs": [
        {
          "output_type": "execute_result",
          "data": {
            "text/plain": [
              "                                                crew     id\n",
              "0  [{'credit_id': '52fe4284c3a36847f8024f49', 'de...    862\n",
              "1  [{'credit_id': '52fe44bfc3a36847f80a7cd1', 'de...   8844\n",
              "2  [{'credit_id': '52fe466a9251416c75077a89', 'de...  15602"
            ],
            "text/html": [
              "\n",
              "  <div id=\"df-3d641cc3-d096-4f31-ac11-7de77c2cc84f\">\n",
              "    <div class=\"colab-df-container\">\n",
              "      <div>\n",
              "<style scoped>\n",
              "    .dataframe tbody tr th:only-of-type {\n",
              "        vertical-align: middle;\n",
              "    }\n",
              "\n",
              "    .dataframe tbody tr th {\n",
              "        vertical-align: top;\n",
              "    }\n",
              "\n",
              "    .dataframe thead th {\n",
              "        text-align: right;\n",
              "    }\n",
              "</style>\n",
              "<table border=\"1\" class=\"dataframe\">\n",
              "  <thead>\n",
              "    <tr style=\"text-align: right;\">\n",
              "      <th></th>\n",
              "      <th>crew</th>\n",
              "      <th>id</th>\n",
              "    </tr>\n",
              "  </thead>\n",
              "  <tbody>\n",
              "    <tr>\n",
              "      <th>0</th>\n",
              "      <td>[{'credit_id': '52fe4284c3a36847f8024f49', 'de...</td>\n",
              "      <td>862</td>\n",
              "    </tr>\n",
              "    <tr>\n",
              "      <th>1</th>\n",
              "      <td>[{'credit_id': '52fe44bfc3a36847f80a7cd1', 'de...</td>\n",
              "      <td>8844</td>\n",
              "    </tr>\n",
              "    <tr>\n",
              "      <th>2</th>\n",
              "      <td>[{'credit_id': '52fe466a9251416c75077a89', 'de...</td>\n",
              "      <td>15602</td>\n",
              "    </tr>\n",
              "  </tbody>\n",
              "</table>\n",
              "</div>\n",
              "      <button class=\"colab-df-convert\" onclick=\"convertToInteractive('df-3d641cc3-d096-4f31-ac11-7de77c2cc84f')\"\n",
              "              title=\"Convert this dataframe to an interactive table.\"\n",
              "              style=\"display:none;\">\n",
              "        \n",
              "  <svg xmlns=\"http://www.w3.org/2000/svg\" height=\"24px\"viewBox=\"0 0 24 24\"\n",
              "       width=\"24px\">\n",
              "    <path d=\"M0 0h24v24H0V0z\" fill=\"none\"/>\n",
              "    <path d=\"M18.56 5.44l.94 2.06.94-2.06 2.06-.94-2.06-.94-.94-2.06-.94 2.06-2.06.94zm-11 1L8.5 8.5l.94-2.06 2.06-.94-2.06-.94L8.5 2.5l-.94 2.06-2.06.94zm10 10l.94 2.06.94-2.06 2.06-.94-2.06-.94-.94-2.06-.94 2.06-2.06.94z\"/><path d=\"M17.41 7.96l-1.37-1.37c-.4-.4-.92-.59-1.43-.59-.52 0-1.04.2-1.43.59L10.3 9.45l-7.72 7.72c-.78.78-.78 2.05 0 2.83L4 21.41c.39.39.9.59 1.41.59.51 0 1.02-.2 1.41-.59l7.78-7.78 2.81-2.81c.8-.78.8-2.07 0-2.86zM5.41 20L4 18.59l7.72-7.72 1.47 1.35L5.41 20z\"/>\n",
              "  </svg>\n",
              "      </button>\n",
              "      \n",
              "  <style>\n",
              "    .colab-df-container {\n",
              "      display:flex;\n",
              "      flex-wrap:wrap;\n",
              "      gap: 12px;\n",
              "    }\n",
              "\n",
              "    .colab-df-convert {\n",
              "      background-color: #E8F0FE;\n",
              "      border: none;\n",
              "      border-radius: 50%;\n",
              "      cursor: pointer;\n",
              "      display: none;\n",
              "      fill: #1967D2;\n",
              "      height: 32px;\n",
              "      padding: 0 0 0 0;\n",
              "      width: 32px;\n",
              "    }\n",
              "\n",
              "    .colab-df-convert:hover {\n",
              "      background-color: #E2EBFA;\n",
              "      box-shadow: 0px 1px 2px rgba(60, 64, 67, 0.3), 0px 1px 3px 1px rgba(60, 64, 67, 0.15);\n",
              "      fill: #174EA6;\n",
              "    }\n",
              "\n",
              "    [theme=dark] .colab-df-convert {\n",
              "      background-color: #3B4455;\n",
              "      fill: #D2E3FC;\n",
              "    }\n",
              "\n",
              "    [theme=dark] .colab-df-convert:hover {\n",
              "      background-color: #434B5C;\n",
              "      box-shadow: 0px 1px 3px 1px rgba(0, 0, 0, 0.15);\n",
              "      filter: drop-shadow(0px 1px 2px rgba(0, 0, 0, 0.3));\n",
              "      fill: #FFFFFF;\n",
              "    }\n",
              "  </style>\n",
              "\n",
              "      <script>\n",
              "        const buttonEl =\n",
              "          document.querySelector('#df-3d641cc3-d096-4f31-ac11-7de77c2cc84f button.colab-df-convert');\n",
              "        buttonEl.style.display =\n",
              "          google.colab.kernel.accessAllowed ? 'block' : 'none';\n",
              "\n",
              "        async function convertToInteractive(key) {\n",
              "          const element = document.querySelector('#df-3d641cc3-d096-4f31-ac11-7de77c2cc84f');\n",
              "          const dataTable =\n",
              "            await google.colab.kernel.invokeFunction('convertToInteractive',\n",
              "                                                     [key], {});\n",
              "          if (!dataTable) return;\n",
              "\n",
              "          const docLinkHtml = 'Like what you see? Visit the ' +\n",
              "            '<a target=\"_blank\" href=https://colab.research.google.com/notebooks/data_table.ipynb>data table notebook</a>'\n",
              "            + ' to learn more about interactive tables.';\n",
              "          element.innerHTML = '';\n",
              "          dataTable['output_type'] = 'display_data';\n",
              "          await google.colab.output.renderOutput(dataTable, element);\n",
              "          const docLink = document.createElement('div');\n",
              "          docLink.innerHTML = docLinkHtml;\n",
              "          element.appendChild(docLink);\n",
              "        }\n",
              "      </script>\n",
              "    </div>\n",
              "  </div>\n",
              "  "
            ]
          },
          "metadata": {},
          "execution_count": 64
        }
      ]
    },
    {
      "cell_type": "code",
      "source": [
        "df1['id'][1]"
      ],
      "metadata": {
        "colab": {
          "base_uri": "https://localhost:8080/"
        },
        "id": "MqTl6i8hT7ev",
        "outputId": "e14529a9-4d0c-438b-c985-17fabb5f8e53"
      },
      "execution_count": 65,
      "outputs": [
        {
          "output_type": "execute_result",
          "data": {
            "text/plain": [
              "8844"
            ]
          },
          "metadata": {},
          "execution_count": 65
        }
      ]
    },
    {
      "cell_type": "code",
      "source": [
        "df1['crew'][1]"
      ],
      "metadata": {
        "colab": {
          "base_uri": "https://localhost:8080/",
          "height": 174
        },
        "id": "J_TCtSU7UAP9",
        "outputId": "07735a82-cfcc-460a-d381-4395af9c240d"
      },
      "execution_count": 66,
      "outputs": [
        {
          "output_type": "execute_result",
          "data": {
            "text/plain": [
              "\"[{'credit_id': '52fe44bfc3a36847f80a7cd1', 'department': 'Production', 'gender': 2, 'id': 511, 'job': 'Executive Producer', 'name': 'Larry J. Franco', 'profile_path': None}, {'credit_id': '52fe44bfc3a36847f80a7c89', 'department': 'Writing', 'gender': 2, 'id': 876, 'job': 'Screenplay', 'name': 'Jonathan Hensleigh', 'profile_path': '/l1c4UFD3g0HVWj5f0CxXAvMAGiT.jpg'}, {'credit_id': '52fe44bfc3a36847f80a7cdd', 'department': 'Sound', 'gender': 2, 'id': 1729, 'job': 'Original Music Composer', 'name': 'James Horner', 'profile_path': '/oLOtXxXsYk8X4qq0ud4xVypXudi.jpg'}, {'credit_id': '52fe44bfc3a36847f80a7c7d', 'department': 'Directing', 'gender': 2, 'id': 4945, 'job': 'Director', 'name': 'Joe Johnston', 'profile_path': '/fok4jaO62v5IP6hkpaaAcXuw2H.jpg'}, {'credit_id': '52fe44bfc3a36847f80a7cd7', 'department': 'Editing', 'gender': 2, 'id': 4951, 'job': 'Editor', 'name': 'Robert Dalva', 'profile_path': None}, {'credit_id': '573523bec3a368025100062c', 'department': 'Production', 'gender': 0, 'id': 4952, 'job': 'Casting', 'name': 'Nancy Foy', 'profile_path': '/blCkmS4dqNsbPGuQfozHE6wgWBw.jpg'}, {'credit_id': '5722a924c3a3682d1e000b41', 'department': 'Visual Effects', 'gender': 0, 'id': 8023, 'job': 'Animation Supervisor', 'name': 'Kyle Balda', 'profile_path': '/jR8iAP6uC0V42KbUG87qBIUO3Hj.jpg'}, {'credit_id': '52fe44c0c3a36847f80a7ce3', 'department': 'Art', 'gender': 2, 'id': 9967, 'job': 'Production Design', 'name': 'James D. Bissell', 'profile_path': None}, {'credit_id': '52fe44bfc3a36847f80a7cb9', 'department': 'Production', 'gender': 2, 'id': 9184, 'job': 'Producer', 'name': 'Scott Kroopf', 'profile_path': None}, {'credit_id': '52fe44bfc3a36847f80a7ccb', 'department': 'Production', 'gender': 2, 'id': 9196, 'job': 'Executive Producer', 'name': 'Ted Field', 'profile_path': '/qmB7sZcgRUq7mRFBSTlSsVXh7sH.jpg'}, {'credit_id': '52fe44bfc3a36847f80a7cc5', 'department': 'Production', 'gender': 2, 'id': 18389, 'job': 'Executive Producer', 'name': 'Robert W. Cort', 'profile_path': None}, {'credit_id': '52fe44bfc3a36847f80a7cbf', 'department': 'Camera', 'gender': 2, 'id': 11371, 'job': 'Director of Photography', 'name': 'Thomas E. Ackerman', 'profile_path': '/xFDbxk53icM1ofL4iCIwB4GkUxN.jpg'}, {'credit_id': '52fe44bfc3a36847f80a7c83', 'department': 'Writing', 'gender': 2, 'id': 42356, 'job': 'Novel', 'name': 'Chris van Allsburg', 'profile_path': None}, {'credit_id': '52fe44bfc3a36847f80a7cb3', 'department': 'Production', 'gender': 2, 'id': 42357, 'job': 'Producer', 'name': 'William Teitler', 'profile_path': None}, {'credit_id': '52fe44bfc3a36847f80a7c8f', 'department': 'Writing', 'gender': 2, 'id': 56520, 'job': 'Screenplay', 'name': 'Greg Taylor', 'profile_path': None}, {'credit_id': '52fe44bfc3a36847f80a7c95', 'department': 'Writing', 'gender': 2, 'id': 56521, 'job': 'Screenplay', 'name': 'Jim Strain', 'profile_path': None}]\""
            ],
            "application/vnd.google.colaboratory.intrinsic+json": {
              "type": "string"
            }
          },
          "metadata": {},
          "execution_count": 66
        }
      ]
    },
    {
      "cell_type": "code",
      "source": [
        "\n",
        "import ast\n",
        "# initialising string dictionary\n",
        "dictionary={}\n",
        "lit=[]\n",
        "lista=[]\n",
        "err=[]\n",
        "for i in range(len(df1)):\n",
        "    string = df1.crew[i]\n",
        "    if string=='[]':\n",
        "         lista.append('sin_informacion')\n",
        "    else:\n",
        "        lit=[]\n",
        "        if  df1.crew[i]!='nan':\n",
        "            #caracteres a eliminar\n",
        "            characters = \"[]\"\n",
        "\n",
        "            for x in range(len(characters)):\n",
        "                string = string.replace(characters[x],\"\")\n",
        "            #evaluo la cadena resultante\n",
        "            dictionary = ast.literal_eval(string)\n",
        "            #asigno tratamiento segun tipo\n",
        "            if type(dictionary)==tuple:\n",
        "                for y in dictionary:\n",
        "                    yy=str(y)\n",
        "                    di=ast.literal_eval(yy)\n",
        "                    if di[\"job\"]=='Director':\n",
        "                        lit.append(di[\"name\"])\n",
        "                lista.append(lit)\n",
        "\n",
        "            elif type(dictionary)==dict :\n",
        "                lista.append(dictionary[\"name\"])\n",
        "            else:\n",
        "                #busqueda discrepancias y errores\n",
        "                err.append(i)\n",
        "                lista.append(\"sin_informacion\")\n",
        "\n",
        "        else:\n",
        "            lista.append(\"sin_informacion\")\n",
        "##########print('errores:',err)\n",
        "df1[\"directores\"]=pd.Series(lista)"
      ],
      "metadata": {
        "id": "TH2oRo1xUKwj"
      },
      "execution_count": 67,
      "outputs": []
    },
    {
      "cell_type": "code",
      "source": [
        "df1[\"directores\"]"
      ],
      "metadata": {
        "colab": {
          "base_uri": "https://localhost:8080/"
        },
        "id": "-Y39Uf_OUQjK",
        "outputId": "ddc6f66c-fcfc-4811-84bd-7e01926ce9e8"
      },
      "execution_count": 68,
      "outputs": [
        {
          "output_type": "execute_result",
          "data": {
            "text/plain": [
              "0           [John Lasseter]\n",
              "1            [Joe Johnston]\n",
              "2           [Howard Deutch]\n",
              "3         [Forest Whitaker]\n",
              "4           [Charles Shyer]\n",
              "                ...        \n",
              "45471    [Hamid Nematollah]\n",
              "45472            [Lav Diaz]\n",
              "45473      [Mark L. Lester]\n",
              "45474    [Yakov Protazanov]\n",
              "45475         Daisy Asquith\n",
              "Name: directores, Length: 45476, dtype: object"
            ]
          },
          "metadata": {},
          "execution_count": 68
        }
      ]
    },
    {
      "cell_type": "code",
      "source": [
        "df1[\"directores\"][1][0]"
      ],
      "metadata": {
        "colab": {
          "base_uri": "https://localhost:8080/",
          "height": 35
        },
        "id": "o3iZ8ixtUfKp",
        "outputId": "839ed937-a33b-4b1f-d893-4240323974d3"
      },
      "execution_count": 69,
      "outputs": [
        {
          "output_type": "execute_result",
          "data": {
            "text/plain": [
              "'Joe Johnston'"
            ],
            "application/vnd.google.colaboratory.intrinsic+json": {
              "type": "string"
            }
          },
          "metadata": {},
          "execution_count": 69
        }
      ]
    },
    {
      "cell_type": "code",
      "source": [
        "df1.info()"
      ],
      "metadata": {
        "colab": {
          "base_uri": "https://localhost:8080/"
        },
        "id": "_PVXCbnaUvwu",
        "outputId": "663b6c2b-9859-430c-c77f-72bdda99d604"
      },
      "execution_count": 70,
      "outputs": [
        {
          "output_type": "stream",
          "name": "stdout",
          "text": [
            "<class 'pandas.core.frame.DataFrame'>\n",
            "RangeIndex: 45476 entries, 0 to 45475\n",
            "Data columns (total 3 columns):\n",
            " #   Column      Non-Null Count  Dtype \n",
            "---  ------      --------------  ----- \n",
            " 0   crew        45476 non-null  object\n",
            " 1   id          45476 non-null  int64 \n",
            " 2   directores  45476 non-null  object\n",
            "dtypes: int64(1), object(2)\n",
            "memory usage: 1.0+ MB\n"
          ]
        }
      ]
    },
    {
      "cell_type": "code",
      "source": [
        "df1.describe(include='all')"
      ],
      "metadata": {
        "colab": {
          "base_uri": "https://localhost:8080/",
          "height": 394
        },
        "id": "53czc-iIU0JR",
        "outputId": "8bd4893d-ecb9-4094-b891-ddd93788f64a"
      },
      "execution_count": 71,
      "outputs": [
        {
          "output_type": "execute_result",
          "data": {
            "text/plain": [
              "         crew             id       directores\n",
              "count   45476   45476.000000            45476\n",
              "unique  44669            NaN            20899\n",
              "top        []            NaN  sin_informacion\n",
              "freq      771            NaN              771\n",
              "mean      NaN  108345.997537              NaN\n",
              "std       NaN  112443.796536              NaN\n",
              "min       NaN       2.000000              NaN\n",
              "25%       NaN   26443.250000              NaN\n",
              "50%       NaN   60002.500000              NaN\n",
              "75%       NaN  157302.000000              NaN\n",
              "max       NaN  469172.000000              NaN"
            ],
            "text/html": [
              "\n",
              "  <div id=\"df-0e6010dd-7d6e-4ae5-9916-33658bdf1e2e\">\n",
              "    <div class=\"colab-df-container\">\n",
              "      <div>\n",
              "<style scoped>\n",
              "    .dataframe tbody tr th:only-of-type {\n",
              "        vertical-align: middle;\n",
              "    }\n",
              "\n",
              "    .dataframe tbody tr th {\n",
              "        vertical-align: top;\n",
              "    }\n",
              "\n",
              "    .dataframe thead th {\n",
              "        text-align: right;\n",
              "    }\n",
              "</style>\n",
              "<table border=\"1\" class=\"dataframe\">\n",
              "  <thead>\n",
              "    <tr style=\"text-align: right;\">\n",
              "      <th></th>\n",
              "      <th>crew</th>\n",
              "      <th>id</th>\n",
              "      <th>directores</th>\n",
              "    </tr>\n",
              "  </thead>\n",
              "  <tbody>\n",
              "    <tr>\n",
              "      <th>count</th>\n",
              "      <td>45476</td>\n",
              "      <td>45476.000000</td>\n",
              "      <td>45476</td>\n",
              "    </tr>\n",
              "    <tr>\n",
              "      <th>unique</th>\n",
              "      <td>44669</td>\n",
              "      <td>NaN</td>\n",
              "      <td>20899</td>\n",
              "    </tr>\n",
              "    <tr>\n",
              "      <th>top</th>\n",
              "      <td>[]</td>\n",
              "      <td>NaN</td>\n",
              "      <td>sin_informacion</td>\n",
              "    </tr>\n",
              "    <tr>\n",
              "      <th>freq</th>\n",
              "      <td>771</td>\n",
              "      <td>NaN</td>\n",
              "      <td>771</td>\n",
              "    </tr>\n",
              "    <tr>\n",
              "      <th>mean</th>\n",
              "      <td>NaN</td>\n",
              "      <td>108345.997537</td>\n",
              "      <td>NaN</td>\n",
              "    </tr>\n",
              "    <tr>\n",
              "      <th>std</th>\n",
              "      <td>NaN</td>\n",
              "      <td>112443.796536</td>\n",
              "      <td>NaN</td>\n",
              "    </tr>\n",
              "    <tr>\n",
              "      <th>min</th>\n",
              "      <td>NaN</td>\n",
              "      <td>2.000000</td>\n",
              "      <td>NaN</td>\n",
              "    </tr>\n",
              "    <tr>\n",
              "      <th>25%</th>\n",
              "      <td>NaN</td>\n",
              "      <td>26443.250000</td>\n",
              "      <td>NaN</td>\n",
              "    </tr>\n",
              "    <tr>\n",
              "      <th>50%</th>\n",
              "      <td>NaN</td>\n",
              "      <td>60002.500000</td>\n",
              "      <td>NaN</td>\n",
              "    </tr>\n",
              "    <tr>\n",
              "      <th>75%</th>\n",
              "      <td>NaN</td>\n",
              "      <td>157302.000000</td>\n",
              "      <td>NaN</td>\n",
              "    </tr>\n",
              "    <tr>\n",
              "      <th>max</th>\n",
              "      <td>NaN</td>\n",
              "      <td>469172.000000</td>\n",
              "      <td>NaN</td>\n",
              "    </tr>\n",
              "  </tbody>\n",
              "</table>\n",
              "</div>\n",
              "      <button class=\"colab-df-convert\" onclick=\"convertToInteractive('df-0e6010dd-7d6e-4ae5-9916-33658bdf1e2e')\"\n",
              "              title=\"Convert this dataframe to an interactive table.\"\n",
              "              style=\"display:none;\">\n",
              "        \n",
              "  <svg xmlns=\"http://www.w3.org/2000/svg\" height=\"24px\"viewBox=\"0 0 24 24\"\n",
              "       width=\"24px\">\n",
              "    <path d=\"M0 0h24v24H0V0z\" fill=\"none\"/>\n",
              "    <path d=\"M18.56 5.44l.94 2.06.94-2.06 2.06-.94-2.06-.94-.94-2.06-.94 2.06-2.06.94zm-11 1L8.5 8.5l.94-2.06 2.06-.94-2.06-.94L8.5 2.5l-.94 2.06-2.06.94zm10 10l.94 2.06.94-2.06 2.06-.94-2.06-.94-.94-2.06-.94 2.06-2.06.94z\"/><path d=\"M17.41 7.96l-1.37-1.37c-.4-.4-.92-.59-1.43-.59-.52 0-1.04.2-1.43.59L10.3 9.45l-7.72 7.72c-.78.78-.78 2.05 0 2.83L4 21.41c.39.39.9.59 1.41.59.51 0 1.02-.2 1.41-.59l7.78-7.78 2.81-2.81c.8-.78.8-2.07 0-2.86zM5.41 20L4 18.59l7.72-7.72 1.47 1.35L5.41 20z\"/>\n",
              "  </svg>\n",
              "      </button>\n",
              "      \n",
              "  <style>\n",
              "    .colab-df-container {\n",
              "      display:flex;\n",
              "      flex-wrap:wrap;\n",
              "      gap: 12px;\n",
              "    }\n",
              "\n",
              "    .colab-df-convert {\n",
              "      background-color: #E8F0FE;\n",
              "      border: none;\n",
              "      border-radius: 50%;\n",
              "      cursor: pointer;\n",
              "      display: none;\n",
              "      fill: #1967D2;\n",
              "      height: 32px;\n",
              "      padding: 0 0 0 0;\n",
              "      width: 32px;\n",
              "    }\n",
              "\n",
              "    .colab-df-convert:hover {\n",
              "      background-color: #E2EBFA;\n",
              "      box-shadow: 0px 1px 2px rgba(60, 64, 67, 0.3), 0px 1px 3px 1px rgba(60, 64, 67, 0.15);\n",
              "      fill: #174EA6;\n",
              "    }\n",
              "\n",
              "    [theme=dark] .colab-df-convert {\n",
              "      background-color: #3B4455;\n",
              "      fill: #D2E3FC;\n",
              "    }\n",
              "\n",
              "    [theme=dark] .colab-df-convert:hover {\n",
              "      background-color: #434B5C;\n",
              "      box-shadow: 0px 1px 3px 1px rgba(0, 0, 0, 0.15);\n",
              "      filter: drop-shadow(0px 1px 2px rgba(0, 0, 0, 0.3));\n",
              "      fill: #FFFFFF;\n",
              "    }\n",
              "  </style>\n",
              "\n",
              "      <script>\n",
              "        const buttonEl =\n",
              "          document.querySelector('#df-0e6010dd-7d6e-4ae5-9916-33658bdf1e2e button.colab-df-convert');\n",
              "        buttonEl.style.display =\n",
              "          google.colab.kernel.accessAllowed ? 'block' : 'none';\n",
              "\n",
              "        async function convertToInteractive(key) {\n",
              "          const element = document.querySelector('#df-0e6010dd-7d6e-4ae5-9916-33658bdf1e2e');\n",
              "          const dataTable =\n",
              "            await google.colab.kernel.invokeFunction('convertToInteractive',\n",
              "                                                     [key], {});\n",
              "          if (!dataTable) return;\n",
              "\n",
              "          const docLinkHtml = 'Like what you see? Visit the ' +\n",
              "            '<a target=\"_blank\" href=https://colab.research.google.com/notebooks/data_table.ipynb>data table notebook</a>'\n",
              "            + ' to learn more about interactive tables.';\n",
              "          element.innerHTML = '';\n",
              "          dataTable['output_type'] = 'display_data';\n",
              "          await google.colab.output.renderOutput(dataTable, element);\n",
              "          const docLink = document.createElement('div');\n",
              "          docLink.innerHTML = docLinkHtml;\n",
              "          element.appendChild(docLink);\n",
              "        }\n",
              "      </script>\n",
              "    </div>\n",
              "  </div>\n",
              "  "
            ]
          },
          "metadata": {},
          "execution_count": 71
        }
      ]
    },
    {
      "cell_type": "code",
      "source": [
        "df1.drop(['crew'], axis = 'columns', inplace=True)\n",
        "df1.info()"
      ],
      "metadata": {
        "colab": {
          "base_uri": "https://localhost:8080/"
        },
        "id": "eJKsdMvhU5Kr",
        "outputId": "a0ebcfa1-f8ae-4dc4-93ae-578028b473c2"
      },
      "execution_count": 72,
      "outputs": [
        {
          "output_type": "stream",
          "name": "stdout",
          "text": [
            "<class 'pandas.core.frame.DataFrame'>\n",
            "RangeIndex: 45476 entries, 0 to 45475\n",
            "Data columns (total 2 columns):\n",
            " #   Column      Non-Null Count  Dtype \n",
            "---  ------      --------------  ----- \n",
            " 0   id          45476 non-null  int64 \n",
            " 1   directores  45476 non-null  object\n",
            "dtypes: int64(1), object(1)\n",
            "memory usage: 710.7+ KB\n"
          ]
        }
      ]
    },
    {
      "cell_type": "code",
      "source": [
        "df1.to_csv(\"direct_P.csv\",encoding='utf-8', index=False)"
      ],
      "metadata": {
        "id": "E5tul6HAVJif"
      },
      "execution_count": null,
      "outputs": []
    },
    {
      "cell_type": "code",
      "source": [
        "def get_director( nombre_director:str ):\n",
        "# Se ingresa el nombre de un director que se encuentre dentro de un dataset\n",
        "# debiendo devolver el éxito del mismo medido a través del retorno. Además,\n",
        "# deberá devolver el nombre de cada película con la fecha de lanzamiento, retorno\n",
        "# individual, costo y ganancia de la misma.\n",
        "\n",
        "  li=[]\n",
        "  resu=''\n",
        "  acum=0\n",
        "\n",
        "  for i in df1['directores'].index:\n",
        "      nom_dir=df1['directores'][i]\n",
        "      for  n in nom_dir:\n",
        "          if nombre_director == n:\n",
        "              id_pel_dir=str(df1['id'][i])\n",
        "              for j in df[\"id\"].index:\n",
        "                  id_pel=str(df[\"id\"][j])\n",
        "                  if id_pel_dir==id_pel:\n",
        "                      tit=df[\"title\"][i]\n",
        "                      fec=df[\"release_year\"][i]\n",
        "                      costo=df[\"budget\"][i]\n",
        "                      ganancia=df['revenue'][i]\n",
        "                      acum=acum+(ganancia-costo)\n",
        "                      ret=ganancia-costo\n",
        "                      resu='director: '+str(nombre_director)+'  retorno_total_director: '+str(acum)+'  pelicula: '+str(tit)+'  anio: '+str(fec)+'  retorno_pelicula: '+str(ret)+'  budget_pelicula: '+str(costo)+' revenue_pelicula: '+str(ganancia)\n",
        "                      li.append(resu)\n",
        "  return {'lista':li}\n"
      ],
      "metadata": {
        "id": "h3BP-s8JVR18"
      },
      "execution_count": 73,
      "outputs": []
    },
    {
      "cell_type": "code",
      "source": [
        "get_director('Forest Whitaker')"
      ],
      "metadata": {
        "colab": {
          "base_uri": "https://localhost:8080/"
        },
        "id": "TfMoympyVA6t",
        "outputId": "9e0b82f4-0d88-463f-8d7c-26f67daf26d4"
      },
      "execution_count": 74,
      "outputs": [
        {
          "output_type": "execute_result",
          "data": {
            "text/plain": [
              "{'lista': ['director: Forest Whitaker  retorno_total_director: 65452156.0  pelicula: Waiting to Exhale  anio: 1995  retorno_pelicula: 65452156.0  budget_pelicula: 16000000.0 revenue_pelicula: 81452156.0',\n",
              "  'director: Forest Whitaker  retorno_total_director: 65452156.0  pelicula: Little Boy Blue  anio: 1997  retorno_pelicula: 0.0  budget_pelicula: 0.0 revenue_pelicula: 0.0',\n",
              "  'director: Forest Whitaker  retorno_total_director: 91491548.0  pelicula: Shaun of the Dead  anio: 2004  retorno_pelicula: 26039392.0  budget_pelicula: 4000000.0 revenue_pelicula: 30039392.0',\n",
              "  'director: Forest Whitaker  retorno_total_director: 90941548.0  pelicula: Bulldog Drummond  anio: 1929  retorno_pelicula: -550000.0  budget_pelicula: 550000.0 revenue_pelicula: 0.0']}"
            ]
          },
          "metadata": {},
          "execution_count": 74
        }
      ]
    },
    {
      "cell_type": "code",
      "source": [
        "df1.info()"
      ],
      "metadata": {
        "colab": {
          "base_uri": "https://localhost:8080/"
        },
        "id": "XpfAwcNhXZ7L",
        "outputId": "d18d08bb-b22c-4cd1-baa8-e2fa8f40c693"
      },
      "execution_count": 75,
      "outputs": [
        {
          "output_type": "stream",
          "name": "stdout",
          "text": [
            "<class 'pandas.core.frame.DataFrame'>\n",
            "RangeIndex: 45476 entries, 0 to 45475\n",
            "Data columns (total 2 columns):\n",
            " #   Column      Non-Null Count  Dtype \n",
            "---  ------      --------------  ----- \n",
            " 0   id          45476 non-null  int64 \n",
            " 1   directores  45476 non-null  object\n",
            "dtypes: int64(1), object(1)\n",
            "memory usage: 710.7+ KB\n"
          ]
        }
      ]
    },
    {
      "cell_type": "code",
      "source": [
        "df1[\"id\"]=df1[\"id\"].astype('string')"
      ],
      "metadata": {
        "id": "tym0SwlivSjD"
      },
      "execution_count": 76,
      "outputs": []
    },
    {
      "cell_type": "code",
      "source": [
        "df1.info()"
      ],
      "metadata": {
        "colab": {
          "base_uri": "https://localhost:8080/"
        },
        "id": "1tf9mXrXwwJ1",
        "outputId": "7df006d3-7982-4478-f34b-19fa0c2fa396"
      },
      "execution_count": 77,
      "outputs": [
        {
          "output_type": "stream",
          "name": "stdout",
          "text": [
            "<class 'pandas.core.frame.DataFrame'>\n",
            "RangeIndex: 45476 entries, 0 to 45475\n",
            "Data columns (total 2 columns):\n",
            " #   Column      Non-Null Count  Dtype \n",
            "---  ------      --------------  ----- \n",
            " 0   id          45476 non-null  string\n",
            " 1   directores  45476 non-null  object\n",
            "dtypes: object(1), string(1)\n",
            "memory usage: 710.7+ KB\n"
          ]
        }
      ]
    },
    {
      "cell_type": "code",
      "source": [
        "df2.info()"
      ],
      "metadata": {
        "colab": {
          "base_uri": "https://localhost:8080/"
        },
        "id": "vvCpkMUxXun_",
        "outputId": "d74b3fc6-fcec-4244-db1d-2ba1ffdea467"
      },
      "execution_count": 78,
      "outputs": [
        {
          "output_type": "stream",
          "name": "stdout",
          "text": [
            "<class 'pandas.core.frame.DataFrame'>\n",
            "RangeIndex: 45379 entries, 0 to 45378\n",
            "Data columns (total 13 columns):\n",
            " #   Column             Non-Null Count  Dtype         \n",
            "---  ------             --------------  -----         \n",
            " 0   budget             45379 non-null  float64       \n",
            " 1   id                 45379 non-null  object        \n",
            " 2   original_language  45368 non-null  object        \n",
            " 3   release_date       45379 non-null  datetime64[ns]\n",
            " 4   revenue            45379 non-null  float64       \n",
            " 5   runtime            45130 non-null  float64       \n",
            " 6   title              45376 non-null  object        \n",
            " 7   vote_average       45376 non-null  float64       \n",
            " 8   vote_count         45376 non-null  float64       \n",
            " 9   release_year       45379 non-null  string        \n",
            " 10  Franquicia_P       45379 non-null  object        \n",
            " 11  paises             45379 non-null  object        \n",
            " 12  productoras        45379 non-null  object        \n",
            "dtypes: datetime64[ns](1), float64(5), object(6), string(1)\n",
            "memory usage: 4.5+ MB\n"
          ]
        }
      ]
    },
    {
      "cell_type": "code",
      "source": [
        "df2[\"id\"]=df2[\"id\"].astype('string')"
      ],
      "metadata": {
        "id": "I4sDfA95w2cO"
      },
      "execution_count": 79,
      "outputs": []
    },
    {
      "cell_type": "code",
      "source": [
        "df2.id.info()"
      ],
      "metadata": {
        "colab": {
          "base_uri": "https://localhost:8080/"
        },
        "id": "P_zDDY0OxAhV",
        "outputId": "8be3b71b-f29e-4096-867b-378a07d564c5"
      },
      "execution_count": 80,
      "outputs": [
        {
          "output_type": "stream",
          "name": "stdout",
          "text": [
            "<class 'pandas.core.series.Series'>\n",
            "RangeIndex: 45379 entries, 0 to 45378\n",
            "Series name: id\n",
            "Non-Null Count  Dtype \n",
            "--------------  ----- \n",
            "45379 non-null  string\n",
            "dtypes: string(1)\n",
            "memory usage: 354.6 KB\n"
          ]
        }
      ]
    },
    {
      "cell_type": "code",
      "source": [
        "dft=pd.merge(df1,df2,on='id',how='inner')"
      ],
      "metadata": {
        "id": "Htjo4m7SpD--"
      },
      "execution_count": 81,
      "outputs": []
    },
    {
      "cell_type": "code",
      "source": [
        "dft.info()"
      ],
      "metadata": {
        "colab": {
          "base_uri": "https://localhost:8080/"
        },
        "id": "BGdSjVvBxPmb",
        "outputId": "933b7466-14dd-4ad1-a274-e3062cefbb8b"
      },
      "execution_count": 82,
      "outputs": [
        {
          "output_type": "stream",
          "name": "stdout",
          "text": [
            "<class 'pandas.core.frame.DataFrame'>\n",
            "Int64Index: 45451 entries, 0 to 45450\n",
            "Data columns (total 14 columns):\n",
            " #   Column             Non-Null Count  Dtype         \n",
            "---  ------             --------------  -----         \n",
            " 0   id                 45451 non-null  string        \n",
            " 1   directores         45451 non-null  object        \n",
            " 2   budget             45451 non-null  float64       \n",
            " 3   original_language  45440 non-null  object        \n",
            " 4   release_date       45451 non-null  datetime64[ns]\n",
            " 5   revenue            45451 non-null  float64       \n",
            " 6   runtime            45205 non-null  float64       \n",
            " 7   title              45451 non-null  object        \n",
            " 8   vote_average       45451 non-null  float64       \n",
            " 9   vote_count         45451 non-null  float64       \n",
            " 10  release_year       45451 non-null  string        \n",
            " 11  Franquicia_P       45451 non-null  object        \n",
            " 12  paises             45451 non-null  object        \n",
            " 13  productoras        45451 non-null  object        \n",
            "dtypes: datetime64[ns](1), float64(5), object(6), string(2)\n",
            "memory usage: 5.2+ MB\n"
          ]
        }
      ]
    },
    {
      "cell_type": "code",
      "source": [
        "dft.info()"
      ],
      "metadata": {
        "colab": {
          "base_uri": "https://localhost:8080/"
        },
        "id": "E4VX4kad1SbD",
        "outputId": "22dde024-ac60-49b9-fa35-03a6c0a20753"
      },
      "execution_count": 84,
      "outputs": [
        {
          "output_type": "stream",
          "name": "stdout",
          "text": [
            "<class 'pandas.core.frame.DataFrame'>\n",
            "RangeIndex: 45451 entries, 0 to 45450\n",
            "Data columns (total 14 columns):\n",
            " #   Column             Non-Null Count  Dtype         \n",
            "---  ------             --------------  -----         \n",
            " 0   id                 45451 non-null  string        \n",
            " 1   directores         45451 non-null  object        \n",
            " 2   budget             45451 non-null  float64       \n",
            " 3   original_language  45440 non-null  object        \n",
            " 4   release_date       45451 non-null  datetime64[ns]\n",
            " 5   revenue            45451 non-null  float64       \n",
            " 6   runtime            45205 non-null  float64       \n",
            " 7   title              45451 non-null  object        \n",
            " 8   vote_average       45451 non-null  float64       \n",
            " 9   vote_count         45451 non-null  float64       \n",
            " 10  release_year       45451 non-null  string        \n",
            " 11  Franquicia_P       45451 non-null  object        \n",
            " 12  paises             45451 non-null  object        \n",
            " 13  productoras        45451 non-null  object        \n",
            "dtypes: datetime64[ns](1), float64(5), object(6), string(2)\n",
            "memory usage: 4.9+ MB\n"
          ]
        }
      ]
    },
    {
      "cell_type": "markdown",
      "source": [
        "elementos a borrar por errores en tipo de dato e informacion innesesaria en el dataset"
      ],
      "metadata": {
        "id": "Z6uJ_jrLzmwL"
      }
    },
    {
      "cell_type": "code",
      "source": [
        "#Posible elemento a borrar posiciones: [19714, 29472, 35543]\n",
        "dft.drop([19714], axis=0, inplace=True)"
      ],
      "metadata": {
        "id": "d03hGF4Azif3"
      },
      "execution_count": 85,
      "outputs": []
    },
    {
      "cell_type": "code",
      "source": [
        "dft.drop([29472], axis=0, inplace=True)"
      ],
      "metadata": {
        "id": "QItlhp5Lz10C"
      },
      "execution_count": 86,
      "outputs": []
    },
    {
      "cell_type": "code",
      "source": [
        "dft.drop([35543], axis=0, inplace=True)"
      ],
      "metadata": {
        "id": "43pZ2FPZz2JH"
      },
      "execution_count": 87,
      "outputs": []
    },
    {
      "cell_type": "code",
      "source": [
        "#Reinicio indices\n",
        "dft.reset_index(drop=True, inplace=True)\n",
        "len(dft)"
      ],
      "metadata": {
        "colab": {
          "base_uri": "https://localhost:8080/"
        },
        "id": "4p2N8A200sLl",
        "outputId": "1e1bc5e1-0ad4-4f00-ddce-ca9a3c508951"
      },
      "execution_count": 89,
      "outputs": [
        {
          "output_type": "execute_result",
          "data": {
            "text/plain": [
              "45448"
            ]
          },
          "metadata": {},
          "execution_count": 89
        }
      ]
    },
    {
      "cell_type": "code",
      "source": [
        "dft.directores.value_counts()"
      ],
      "metadata": {
        "colab": {
          "base_uri": "https://localhost:8080/"
        },
        "id": "S08BrYfy0Jjf",
        "outputId": "8a8eb613-d341-48b9-c8fc-7ecb29f1d7f7"
      },
      "execution_count": 120,
      "outputs": [
        {
          "output_type": "execute_result",
          "data": {
            "text/plain": [
              "sin_informacion            722\n",
              "[]                          68\n",
              "[Michael Curtiz]            61\n",
              "[John Ford]                 60\n",
              "[Alfred Hitchcock]          51\n",
              "                          ... \n",
              "[Michelle Danner]            1\n",
              "[Scott W. Mckinlay]          1\n",
              "[Stacie Passon]              1\n",
              "[Fernando Barreda Luna]      1\n",
              "Daisy Asquith                1\n",
              "Name: directores, Length: 20869, dtype: int64"
            ]
          },
          "metadata": {},
          "execution_count": 120
        }
      ]
    },
    {
      "cell_type": "code",
      "source": [
        "dft.to_csv('fin_api_12.csv', index=False)"
      ],
      "metadata": {
        "id": "ALvCozdvyxxw"
      },
      "execution_count": 95,
      "outputs": []
    },
    {
      "cell_type": "code",
      "source": [
        "def get_director( nombre_director:str ):\n",
        "# Se ingresa el nombre de un director que se encuentre dentro de un dataset\n",
        "# debiendo devolver el éxito del mismo medido a través del retorno. Además,\n",
        "# deberá devolver el nombre de cada película con la fecha de lanzamiento, retorno\n",
        "# individual, costo y ganancia de la misma.\n",
        "\n",
        "  li=[]\n",
        "  resu=''\n",
        "  acum=0\n",
        "\n",
        "  for i in range(len(dft['directores'])):\n",
        "      nom_dir=dft['directores'][i]\n",
        "      if type(nom_dir)==list:\n",
        "          for  n in range(len(nom_dir)):\n",
        "\n",
        "              if nombre_director == nom_dir[n]:\n",
        "                  tit=dft[\"title\"][i]\n",
        "                  fec=dft[\"release_year\"][i]\n",
        "                  costo=dft[\"budget\"][i]\n",
        "                  ganancia=dft['revenue'][i]\n",
        "                  acum=acum+(ganancia-costo)\n",
        "                  ret=ganancia-costo\n",
        "                  resu='director: '+str(nombre_director)+'  retorno_total_director: '+str(acum)+'  pelicula: '+str(tit)+'  anio: '+str(fec)+'  retorno_pelicula: '+str(ret)+'  budget_pelicula: '+str(costo)+' revenue_pelicula: '+str(ganancia)\n",
        "                  li.append(resu)\n",
        "                  #print('primera_parte')\n",
        "      else:\n",
        "          if nombre_director == nom_dir:\n",
        "                  tit=dft[\"title\"][i]\n",
        "                  fec=dft[\"release_year\"][i]\n",
        "                  costo=dft[\"budget\"][i]\n",
        "                  ganancia=dft['revenue'][i]\n",
        "                  acum=acum+(ganancia-costo)\n",
        "                  ret=ganancia-costo\n",
        "                  resu='director: '+str(nombre_director)+'  retorno_total_director: '+str(acum)+'  pelicula: '+str(tit)+'  anio: '+str(fec)+'  retorno_pelicula: '+str(ret)+'  budget_pelicula: '+str(costo)+' revenue_pelicula: '+str(ganancia)\n",
        "                  li.append(resu)\n",
        "                  #print('segunda_parte')\n",
        "  return {'lista':li}\n"
      ],
      "metadata": {
        "id": "spK7R_P-TnO4"
      },
      "execution_count": 145,
      "outputs": []
    },
    {
      "cell_type": "markdown",
      "source": [],
      "metadata": {
        "id": "B1ooHnT9eZmi"
      }
    },
    {
      "cell_type": "code",
      "source": [],
      "metadata": {
        "id": "15c5iujdeSDk"
      },
      "execution_count": null,
      "outputs": []
    },
    {
      "cell_type": "code",
      "source": [
        "get_director('Alfred Hitchcock')"
      ],
      "metadata": {
        "colab": {
          "base_uri": "https://localhost:8080/"
        },
        "id": "SGU5pBUH-wUn",
        "outputId": "7da65fee-443e-42ad-b551-e149c82eb3ee"
      },
      "execution_count": 148,
      "outputs": [
        {
          "output_type": "stream",
          "name": "stdout",
          "text": [
            "fer\n",
            "fer\n",
            "fer\n",
            "fer\n",
            "fer\n",
            "fer\n",
            "fer\n",
            "fer\n",
            "fer\n",
            "fer\n",
            "fer\n",
            "fer\n",
            "fer\n",
            "fer\n",
            "fer\n",
            "fer\n",
            "fer\n",
            "fer\n",
            "fer\n",
            "fer\n",
            "fer\n",
            "fer\n",
            "fer\n",
            "fer\n",
            "fer\n",
            "fer\n",
            "fer\n",
            "fer\n",
            "fer\n",
            "fer\n",
            "fer\n",
            "fer\n",
            "fer\n",
            "fer\n",
            "fer\n",
            "fer\n",
            "fer\n",
            "sehindo\n",
            "fer\n",
            "fer\n",
            "fer\n",
            "fer\n",
            "fer\n",
            "fer\n",
            "fer\n",
            "fer\n",
            "fer\n",
            "fer\n",
            "fer\n",
            "fer\n",
            "fer\n",
            "fer\n",
            "fer\n"
          ]
        },
        {
          "output_type": "execute_result",
          "data": {
            "text/plain": [
              "{'lista': ['director: Alfred Hitchcock  retorno_total_director: 25521000.0  pelicula: Vertigo  anio: 1958  retorno_pelicula: 25521000.0  budget_pelicula: 2479000.0 revenue_pelicula: 28000000.0',\n",
              "  'director: Alfred Hitchcock  retorno_total_director: 61285313.0  pelicula: Rear Window  anio: 1954  retorno_pelicula: 35764313.0  budget_pelicula: 1000000.0 revenue_pelicula: 36764313.0',\n",
              "  'director: Alfred Hitchcock  retorno_total_director: 70560313.0  pelicula: North by Northwest  anio: 1959  retorno_pelicula: 9275000.0  budget_pelicula: 4000000.0 revenue_pelicula: 13275000.0',\n",
              "  'director: Alfred Hitchcock  retorno_total_director: 75272313.0  pelicula: Rebecca  anio: 1940  retorno_pelicula: 4712000.0  budget_pelicula: 1288000.0 revenue_pelicula: 6000000.0',\n",
              "  'director: Alfred Hitchcock  retorno_total_director: 75272313.0  pelicula: Foreign Correspondent  anio: 1940  retorno_pelicula: 0.0  budget_pelicula: 0.0 revenue_pelicula: 0.0',\n",
              "  'director: Alfred Hitchcock  retorno_total_director: 97737055.0  pelicula: Notorious  anio: 1946  retorno_pelicula: 22464742.0  budget_pelicula: 2000000.0 revenue_pelicula: 24464742.0',\n",
              "  'director: Alfred Hitchcock  retorno_total_director: 103237055.0  pelicula: Spellbound  anio: 1945  retorno_pelicula: 5500000.0  budget_pelicula: 1500000.0 revenue_pelicula: 7000000.0',\n",
              "  'director: Alfred Hitchcock  retorno_total_director: 109487055.0  pelicula: To Catch a Thief  anio: 1955  retorno_pelicula: 6250000.0  budget_pelicula: 2500000.0 revenue_pelicula: 8750000.0',\n",
              "  'director: Alfred Hitchcock  retorno_total_director: 109487055.0  pelicula: The 39 Steps  anio: 1935  retorno_pelicula: 0.0  budget_pelicula: 0.0 revenue_pelicula: 0.0',\n",
              "  'director: Alfred Hitchcock  retorno_total_director: 111087055.0  pelicula: Dial M for Murder  anio: 1954  retorno_pelicula: 1600000.0  budget_pelicula: 1400000.0 revenue_pelicula: 3000000.0',\n",
              "  'director: Alfred Hitchcock  retorno_total_director: 142280107.0  pelicula: Psycho  anio: 1960  retorno_pelicula: 31193052.0  budget_pelicula: 806948.0 revenue_pelicula: 32000000.0',\n",
              "  'director: Alfred Hitchcock  retorno_total_director: 151183636.0  pelicula: The Birds  anio: 1963  retorno_pelicula: 8903529.0  budget_pelicula: 2500000.0 revenue_pelicula: 11403529.0',\n",
              "  'director: Alfred Hitchcock  retorno_total_director: 151883636.0  pelicula: Rope  anio: 1948  retorno_pelicula: 700000.0  budget_pelicula: 1500000.0 revenue_pelicula: 2200000.0',\n",
              "  'director: Alfred Hitchcock  retorno_total_director: 157783636.0  pelicula: Family Plot  anio: 1976  retorno_pelicula: 5900000.0  budget_pelicula: 2000000.0 revenue_pelicula: 7900000.0',\n",
              "  'director: Alfred Hitchcock  retorno_total_director: 166883636.0  pelicula: Frenzy  anio: 1972  retorno_pelicula: 9100000.0  budget_pelicula: 3500000.0 revenue_pelicula: 12600000.0',\n",
              "  'director: Alfred Hitchcock  retorno_total_director: 168883636.0  pelicula: Topaz  anio: 1969  retorno_pelicula: 2000000.0  budget_pelicula: 4000000.0 revenue_pelicula: 6000000.0',\n",
              "  'director: Alfred Hitchcock  retorno_total_director: 178883636.0  pelicula: Torn Curtain  anio: 1966  retorno_pelicula: 10000000.0  budget_pelicula: 3000000.0 revenue_pelicula: 13000000.0',\n",
              "  'director: Alfred Hitchcock  retorno_total_director: 183748475.0  pelicula: Marnie  anio: 1964  retorno_pelicula: 4864839.0  budget_pelicula: 2135161.0 revenue_pelicula: 7000000.0',\n",
              "  'director: Alfred Hitchcock  retorno_total_director: 184548475.0  pelicula: The Wrong Man  anio: 1956  retorno_pelicula: 800000.0  budget_pelicula: 1200000.0 revenue_pelicula: 2000000.0',\n",
              "  'director: Alfred Hitchcock  retorno_total_director: 192298475.0  pelicula: The Man Who Knew Too Much  anio: 1956  retorno_pelicula: 7750000.0  budget_pelicula: 2500000.0 revenue_pelicula: 10250000.0',\n",
              "  'director: Alfred Hitchcock  retorno_total_director: 198098475.0  pelicula: The Trouble with Harry  anio: 1955  retorno_pelicula: 5800000.0  budget_pelicula: 1200000.0 revenue_pelicula: 7000000.0',\n",
              "  'director: Alfred Hitchcock  retorno_total_director: 198098475.0  pelicula: I Confess  anio: 1953  retorno_pelicula: 0.0  budget_pelicula: 0.0 revenue_pelicula: 0.0',\n",
              "  'director: Alfred Hitchcock  retorno_total_director: 203898475.0  pelicula: Strangers on a Train  anio: 1951  retorno_pelicula: 5800000.0  budget_pelicula: 1200000.0 revenue_pelicula: 7000000.0',\n",
              "  'director: Alfred Hitchcock  retorno_total_director: 203898475.0  pelicula: Stage Fright  anio: 1950  retorno_pelicula: 0.0  budget_pelicula: 0.0 revenue_pelicula: 0.0',\n",
              "  'director: Alfred Hitchcock  retorno_total_director: 203898475.0  pelicula: Under Capricorn  anio: 1949  retorno_pelicula: 0.0  budget_pelicula: 0.0 revenue_pelicula: 0.0',\n",
              "  'director: Alfred Hitchcock  retorno_total_director: 199640475.0  pelicula: The Paradine Case  anio: 1947  retorno_pelicula: -4258000.0  budget_pelicula: 4258000.0 revenue_pelicula: 0.0',\n",
              "  'director: Alfred Hitchcock  retorno_total_director: 198050475.0  pelicula: Lifeboat  anio: 1944  retorno_pelicula: -1590000.0  budget_pelicula: 1590000.0 revenue_pelicula: 0.0',\n",
              "  'director: Alfred Hitchcock  retorno_total_director: 198050475.0  pelicula: Shadow of a Doubt  anio: 1943  retorno_pelicula: 0.0  budget_pelicula: 0.0 revenue_pelicula: 0.0',\n",
              "  'director: Alfred Hitchcock  retorno_total_director: 198050475.0  pelicula: Saboteur  anio: 1942  retorno_pelicula: 0.0  budget_pelicula: 0.0 revenue_pelicula: 0.0',\n",
              "  'director: Alfred Hitchcock  retorno_total_director: 198050475.0  pelicula: Mr. & Mrs. Smith  anio: 1941  retorno_pelicula: 0.0  budget_pelicula: 0.0 revenue_pelicula: 0.0',\n",
              "  'director: Alfred Hitchcock  retorno_total_director: 201447475.0  pelicula: Suspicion  anio: 1941  retorno_pelicula: 3397000.0  budget_pelicula: 1103000.0 revenue_pelicula: 4500000.0',\n",
              "  'director: Alfred Hitchcock  retorno_total_director: 201447475.0  pelicula: Jamaica Inn  anio: 1939  retorno_pelicula: 0.0  budget_pelicula: 0.0 revenue_pelicula: 0.0',\n",
              "  'director: Alfred Hitchcock  retorno_total_director: 201447475.0  pelicula: The Lady Vanishes  anio: 1938  retorno_pelicula: 0.0  budget_pelicula: 0.0 revenue_pelicula: 0.0',\n",
              "  'director: Alfred Hitchcock  retorno_total_director: 201447475.0  pelicula: Young and Innocent  anio: 1937  retorno_pelicula: 0.0  budget_pelicula: 0.0 revenue_pelicula: 0.0',\n",
              "  'director: Alfred Hitchcock  retorno_total_director: 201447475.0  pelicula: Sabotage  anio: 1936  retorno_pelicula: 0.0  budget_pelicula: 0.0 revenue_pelicula: 0.0',\n",
              "  'director: Alfred Hitchcock  retorno_total_director: 201447475.0  pelicula: Secret Agent  anio: 1936  retorno_pelicula: 0.0  budget_pelicula: 0.0 revenue_pelicula: 0.0',\n",
              "  'director: Alfred Hitchcock  retorno_total_director: 201447475.0  pelicula: The Man Who Knew Too Much  anio: 1934  retorno_pelicula: 0.0  budget_pelicula: 0.0 revenue_pelicula: 0.0',\n",
              "  'director: Alfred Hitchcock  retorno_total_director: 201447475.0  pelicula: Waltzes from Vienna  anio: 1934  retorno_pelicula: 0.0  budget_pelicula: 0.0 revenue_pelicula: 0.0',\n",
              "  'director: Alfred Hitchcock  retorno_total_director: 201447475.0  pelicula: Number Seventeen  anio: 1932  retorno_pelicula: 0.0  budget_pelicula: 0.0 revenue_pelicula: 0.0',\n",
              "  'director: Alfred Hitchcock  retorno_total_director: 201447475.0  pelicula: Rich and Strange  anio: 1931  retorno_pelicula: 0.0  budget_pelicula: 0.0 revenue_pelicula: 0.0',\n",
              "  'director: Alfred Hitchcock  retorno_total_director: 201447475.0  pelicula: The Skin Game  anio: 1931  retorno_pelicula: 0.0  budget_pelicula: 0.0 revenue_pelicula: 0.0',\n",
              "  'director: Alfred Hitchcock  retorno_total_director: 201447475.0  pelicula: Elstree Calling  anio: 1930  retorno_pelicula: 0.0  budget_pelicula: 0.0 revenue_pelicula: 0.0',\n",
              "  'director: Alfred Hitchcock  retorno_total_director: 201447475.0  pelicula: Juno and the Paycock  anio: 1930  retorno_pelicula: 0.0  budget_pelicula: 0.0 revenue_pelicula: 0.0',\n",
              "  'director: Alfred Hitchcock  retorno_total_director: 201447475.0  pelicula: Murder!  anio: 1930  retorno_pelicula: 0.0  budget_pelicula: 0.0 revenue_pelicula: 0.0',\n",
              "  'director: Alfred Hitchcock  retorno_total_director: 201447475.0  pelicula: The Manxman  anio: 1929  retorno_pelicula: 0.0  budget_pelicula: 0.0 revenue_pelicula: 0.0',\n",
              "  'director: Alfred Hitchcock  retorno_total_director: 201447475.0  pelicula: Blackmail  anio: 1929  retorno_pelicula: 0.0  budget_pelicula: 0.0 revenue_pelicula: 0.0',\n",
              "  'director: Alfred Hitchcock  retorno_total_director: 201447475.0  pelicula: Champagne  anio: 1928  retorno_pelicula: 0.0  budget_pelicula: 0.0 revenue_pelicula: 0.0',\n",
              "  'director: Alfred Hitchcock  retorno_total_director: 201447475.0  pelicula: Downhill  anio: 1927  retorno_pelicula: 0.0  budget_pelicula: 0.0 revenue_pelicula: 0.0',\n",
              "  'director: Alfred Hitchcock  retorno_total_director: 201447475.0  pelicula: Easy Virtue  anio: 1928  retorno_pelicula: 0.0  budget_pelicula: 0.0 revenue_pelicula: 0.0',\n",
              "  'director: Alfred Hitchcock  retorno_total_director: 201447475.0  pelicula: The Ring  anio: 1927  retorno_pelicula: 0.0  budget_pelicula: 0.0 revenue_pelicula: 0.0',\n",
              "  'director: Alfred Hitchcock  retorno_total_director: 201435475.0  pelicula: The Lodger: A Story of the London Fog  anio: 1927  retorno_pelicula: -12000.0  budget_pelicula: 12000.0 revenue_pelicula: 0.0',\n",
              "  'director: Alfred Hitchcock  retorno_total_director: 201435475.0  pelicula: The Pleasure Garden  anio: 1925  retorno_pelicula: 0.0  budget_pelicula: 0.0 revenue_pelicula: 0.0',\n",
              "  'director: Alfred Hitchcock  retorno_total_director: 201435475.0  pelicula: Aventure Malgache  anio: 1944  retorno_pelicula: 0.0  budget_pelicula: 0.0 revenue_pelicula: 0.0']}"
            ]
          },
          "metadata": {},
          "execution_count": 148
        }
      ]
    },
    {
      "cell_type": "markdown",
      "source": [
        "##Endpoint : recomendacion(titulo)"
      ],
      "metadata": {
        "id": "LMyNdRwBVgJC"
      }
    },
    {
      "cell_type": "code",
      "source": [
        "\n",
        "def get_recomend(titulo:str):\n",
        "    #sobre un subconjunto de filas calculo el modelo teniendo en cuenta disponibilidad de recursos\n",
        "    movieRatings = dft[0:15000].pivot_table(index=['id'],columns=['title'],values='vote_average')\n",
        "\n",
        "    titu_df = movieRatings[titulo]\n",
        "\n",
        "    # Correlamos el resto de peliculas (columnas) con la seleccionada (Jumanji)\n",
        "    similarMovies = movieRatings.corrwith(titu_df)\n",
        "    similarMovies = similarMovies.dropna()\n",
        "    df = pd.DataFrame(similarMovies)\n",
        "\n",
        "    # Las ordenamos por el valor de score que hemos generado, de forma descendente\n",
        "    similarMovies.sort_values(ascending=False)\n",
        "\n",
        "    # agregamos por titulo y devolvemos el\n",
        "    # numero de veces que se puntuo, y la media de puntuacion\n",
        "    movieStats = df2[0:15000].groupby('title').agg({'vote_average': [np.size, np.mean]})\n",
        "\n",
        "    # nos quedamos con todas las que tengan mas de 3 puntuaciones\n",
        "    # de distintos usuarios\n",
        "    popularMovies = movieStats['vote_average']['size'] >= 3\n",
        "\n",
        "    # ordenamos por la puntuación asignada\n",
        "    movieStats[popularMovies].sort_values([('vote_average', 'mean')], ascending=False)[:15]\n",
        "    # tambien de esta forma se puede dff=pd.merge(peliculasVotadas[peliculasPopulares],dfff ,how='outer',on='title')\n",
        "    # hacemos el join\n",
        "    df = movieStats[popularMovies].join(pd.DataFrame(similarMovies, columns=['similarity']))\n",
        "\n",
        "    # Ordenamos el dataframe por similaridad, y vemos los primeros 5 resultados\n",
        "    df.sort_values(['similarity'], ascending=False)[:5]\n",
        "\n",
        "    dff=df.sort_values(['similarity'], ascending=False)[:5]\n",
        "    li=[]\n",
        "    lista=''\n",
        "    fx=dff.index\n",
        "    i=0\n",
        "    for x in fx:\n",
        "        i=i+1\n",
        "        lista=lista+x+' , '\n",
        "        li.append(x)\n",
        "\n",
        "    dfg=pd.Series(li)\n",
        "\n",
        "\n",
        "    return {'recomendadas por prioridad descendente':dfg}"
      ],
      "metadata": {
        "id": "uS6Y0GwfV0K0"
      },
      "execution_count": 134,
      "outputs": []
    },
    {
      "cell_type": "code",
      "source": [
        "get_recomend('Jumanji')"
      ],
      "metadata": {
        "colab": {
          "base_uri": "https://localhost:8080/"
        },
        "id": "B4nSYDG-WEUf",
        "outputId": "4b1776c3-1c5c-4e3c-f0d1-84e220e9cdca"
      },
      "execution_count": 135,
      "outputs": [
        {
          "output_type": "stream",
          "name": "stderr",
          "text": [
            "/usr/local/lib/python3.10/dist-packages/numpy/lib/function_base.py:2821: RuntimeWarning: Degrees of freedom <= 0 for slice\n",
            "  c = cov(x, y, rowvar, dtype=dtype)\n",
            "/usr/local/lib/python3.10/dist-packages/numpy/lib/function_base.py:2680: RuntimeWarning: divide by zero encountered in true_divide\n",
            "  c *= np.true_divide(1, fact)\n",
            "<ipython-input-134-b512aefa2282>:27: FutureWarning: merging between different levels is deprecated and will be removed in a future version. (2 levels on the left, 1 on the right)\n",
            "  df = movieStats[popularMovies].join(pd.DataFrame(similarMovies, columns=['similarity']))\n"
          ]
        },
        {
          "output_type": "execute_result",
          "data": {
            "text/plain": [
              "{'recomendadas por prioridad descendente': 0      A Christmas Carol\n",
              " 1         A Star Is Born\n",
              " 2                  Alice\n",
              " 3    Alice in Wonderland\n",
              " 4                 Asylum\n",
              " dtype: object}"
            ]
          },
          "metadata": {},
          "execution_count": 135
        }
      ]
    }
  ]
}